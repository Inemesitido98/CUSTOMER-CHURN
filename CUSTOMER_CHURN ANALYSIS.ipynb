{
 "cells": [
  {
   "cell_type": "code",
   "execution_count": 1,
   "metadata": {
    "id": "R2Cbl7oBCiON"
   },
   "outputs": [],
   "source": [
    "import pandas as pd\n",
    "import numpy as np\n",
    "import matplotlib.pyplot as plt\n",
    "import seaborn as sns\n",
    "\n"
   ]
  },
  {
   "cell_type": "code",
   "execution_count": 2,
   "metadata": {
    "colab": {
     "base_uri": "https://localhost:8080/",
     "height": 617
    },
    "id": "dg2UZcjqStaq",
    "outputId": "75e66f8c-e37f-4bd3-e0e5-72202b55001e"
   },
   "outputs": [
    {
     "data": {
      "text/html": [
       "<div>\n",
       "<style scoped>\n",
       "    .dataframe tbody tr th:only-of-type {\n",
       "        vertical-align: middle;\n",
       "    }\n",
       "\n",
       "    .dataframe tbody tr th {\n",
       "        vertical-align: top;\n",
       "    }\n",
       "\n",
       "    .dataframe thead th {\n",
       "        text-align: right;\n",
       "    }\n",
       "</style>\n",
       "<table border=\"1\" class=\"dataframe\">\n",
       "  <thead>\n",
       "    <tr style=\"text-align: right;\">\n",
       "      <th></th>\n",
       "      <th>customerID</th>\n",
       "      <th>gender</th>\n",
       "      <th>SeniorCitizen</th>\n",
       "      <th>Partner</th>\n",
       "      <th>Dependents</th>\n",
       "      <th>tenure</th>\n",
       "      <th>PhoneService</th>\n",
       "      <th>MultipleLines</th>\n",
       "      <th>InternetService</th>\n",
       "      <th>OnlineSecurity</th>\n",
       "      <th>...</th>\n",
       "      <th>DeviceProtection</th>\n",
       "      <th>TechSupport</th>\n",
       "      <th>StreamingTV</th>\n",
       "      <th>StreamingMovies</th>\n",
       "      <th>Contract</th>\n",
       "      <th>PaperlessBilling</th>\n",
       "      <th>PaymentMethod</th>\n",
       "      <th>MonthlyCharges</th>\n",
       "      <th>TotalCharges</th>\n",
       "      <th>Churn</th>\n",
       "    </tr>\n",
       "  </thead>\n",
       "  <tbody>\n",
       "    <tr>\n",
       "      <th>0</th>\n",
       "      <td>7590-VHVEG</td>\n",
       "      <td>Female</td>\n",
       "      <td>0</td>\n",
       "      <td>Yes</td>\n",
       "      <td>No</td>\n",
       "      <td>1</td>\n",
       "      <td>No</td>\n",
       "      <td>No phone service</td>\n",
       "      <td>DSL</td>\n",
       "      <td>No</td>\n",
       "      <td>...</td>\n",
       "      <td>No</td>\n",
       "      <td>No</td>\n",
       "      <td>No</td>\n",
       "      <td>No</td>\n",
       "      <td>Month-to-month</td>\n",
       "      <td>Yes</td>\n",
       "      <td>Electronic check</td>\n",
       "      <td>29.85</td>\n",
       "      <td>29.85</td>\n",
       "      <td>No</td>\n",
       "    </tr>\n",
       "    <tr>\n",
       "      <th>1</th>\n",
       "      <td>5575-GNVDE</td>\n",
       "      <td>Male</td>\n",
       "      <td>0</td>\n",
       "      <td>No</td>\n",
       "      <td>No</td>\n",
       "      <td>34</td>\n",
       "      <td>Yes</td>\n",
       "      <td>No</td>\n",
       "      <td>DSL</td>\n",
       "      <td>Yes</td>\n",
       "      <td>...</td>\n",
       "      <td>Yes</td>\n",
       "      <td>No</td>\n",
       "      <td>No</td>\n",
       "      <td>No</td>\n",
       "      <td>One year</td>\n",
       "      <td>No</td>\n",
       "      <td>Mailed check</td>\n",
       "      <td>56.95</td>\n",
       "      <td>1889.5</td>\n",
       "      <td>No</td>\n",
       "    </tr>\n",
       "    <tr>\n",
       "      <th>2</th>\n",
       "      <td>3668-QPYBK</td>\n",
       "      <td>Male</td>\n",
       "      <td>0</td>\n",
       "      <td>No</td>\n",
       "      <td>No</td>\n",
       "      <td>2</td>\n",
       "      <td>Yes</td>\n",
       "      <td>No</td>\n",
       "      <td>DSL</td>\n",
       "      <td>Yes</td>\n",
       "      <td>...</td>\n",
       "      <td>No</td>\n",
       "      <td>No</td>\n",
       "      <td>No</td>\n",
       "      <td>No</td>\n",
       "      <td>Month-to-month</td>\n",
       "      <td>Yes</td>\n",
       "      <td>Mailed check</td>\n",
       "      <td>53.85</td>\n",
       "      <td>108.15</td>\n",
       "      <td>Yes</td>\n",
       "    </tr>\n",
       "    <tr>\n",
       "      <th>3</th>\n",
       "      <td>7795-CFOCW</td>\n",
       "      <td>Male</td>\n",
       "      <td>0</td>\n",
       "      <td>No</td>\n",
       "      <td>No</td>\n",
       "      <td>45</td>\n",
       "      <td>No</td>\n",
       "      <td>No phone service</td>\n",
       "      <td>DSL</td>\n",
       "      <td>Yes</td>\n",
       "      <td>...</td>\n",
       "      <td>Yes</td>\n",
       "      <td>Yes</td>\n",
       "      <td>No</td>\n",
       "      <td>No</td>\n",
       "      <td>One year</td>\n",
       "      <td>No</td>\n",
       "      <td>Bank transfer (automatic)</td>\n",
       "      <td>42.30</td>\n",
       "      <td>1840.75</td>\n",
       "      <td>No</td>\n",
       "    </tr>\n",
       "    <tr>\n",
       "      <th>4</th>\n",
       "      <td>9237-HQITU</td>\n",
       "      <td>Female</td>\n",
       "      <td>0</td>\n",
       "      <td>No</td>\n",
       "      <td>No</td>\n",
       "      <td>2</td>\n",
       "      <td>Yes</td>\n",
       "      <td>No</td>\n",
       "      <td>Fiber optic</td>\n",
       "      <td>No</td>\n",
       "      <td>...</td>\n",
       "      <td>No</td>\n",
       "      <td>No</td>\n",
       "      <td>No</td>\n",
       "      <td>No</td>\n",
       "      <td>Month-to-month</td>\n",
       "      <td>Yes</td>\n",
       "      <td>Electronic check</td>\n",
       "      <td>70.70</td>\n",
       "      <td>151.65</td>\n",
       "      <td>Yes</td>\n",
       "    </tr>\n",
       "    <tr>\n",
       "      <th>...</th>\n",
       "      <td>...</td>\n",
       "      <td>...</td>\n",
       "      <td>...</td>\n",
       "      <td>...</td>\n",
       "      <td>...</td>\n",
       "      <td>...</td>\n",
       "      <td>...</td>\n",
       "      <td>...</td>\n",
       "      <td>...</td>\n",
       "      <td>...</td>\n",
       "      <td>...</td>\n",
       "      <td>...</td>\n",
       "      <td>...</td>\n",
       "      <td>...</td>\n",
       "      <td>...</td>\n",
       "      <td>...</td>\n",
       "      <td>...</td>\n",
       "      <td>...</td>\n",
       "      <td>...</td>\n",
       "      <td>...</td>\n",
       "      <td>...</td>\n",
       "    </tr>\n",
       "    <tr>\n",
       "      <th>95</th>\n",
       "      <td>8637-XJIVR</td>\n",
       "      <td>Female</td>\n",
       "      <td>0</td>\n",
       "      <td>No</td>\n",
       "      <td>No</td>\n",
       "      <td>12</td>\n",
       "      <td>Yes</td>\n",
       "      <td>Yes</td>\n",
       "      <td>Fiber optic</td>\n",
       "      <td>Yes</td>\n",
       "      <td>...</td>\n",
       "      <td>No</td>\n",
       "      <td>No</td>\n",
       "      <td>No</td>\n",
       "      <td>No</td>\n",
       "      <td>Month-to-month</td>\n",
       "      <td>Yes</td>\n",
       "      <td>Electronic check</td>\n",
       "      <td>78.95</td>\n",
       "      <td>927.35</td>\n",
       "      <td>Yes</td>\n",
       "    </tr>\n",
       "    <tr>\n",
       "      <th>96</th>\n",
       "      <td>9803-FTJCG</td>\n",
       "      <td>Male</td>\n",
       "      <td>0</td>\n",
       "      <td>Yes</td>\n",
       "      <td>Yes</td>\n",
       "      <td>71</td>\n",
       "      <td>Yes</td>\n",
       "      <td>Yes</td>\n",
       "      <td>DSL</td>\n",
       "      <td>Yes</td>\n",
       "      <td>...</td>\n",
       "      <td>No</td>\n",
       "      <td>Yes</td>\n",
       "      <td>No</td>\n",
       "      <td>No</td>\n",
       "      <td>One year</td>\n",
       "      <td>Yes</td>\n",
       "      <td>Credit card (automatic)</td>\n",
       "      <td>66.85</td>\n",
       "      <td>4748.7</td>\n",
       "      <td>No</td>\n",
       "    </tr>\n",
       "    <tr>\n",
       "      <th>97</th>\n",
       "      <td>0278-YXOOG</td>\n",
       "      <td>Male</td>\n",
       "      <td>0</td>\n",
       "      <td>No</td>\n",
       "      <td>No</td>\n",
       "      <td>5</td>\n",
       "      <td>Yes</td>\n",
       "      <td>No</td>\n",
       "      <td>No</td>\n",
       "      <td>No internet service</td>\n",
       "      <td>...</td>\n",
       "      <td>No internet service</td>\n",
       "      <td>No internet service</td>\n",
       "      <td>No internet service</td>\n",
       "      <td>No internet service</td>\n",
       "      <td>Month-to-month</td>\n",
       "      <td>No</td>\n",
       "      <td>Mailed check</td>\n",
       "      <td>21.05</td>\n",
       "      <td>113.85</td>\n",
       "      <td>Yes</td>\n",
       "    </tr>\n",
       "    <tr>\n",
       "      <th>98</th>\n",
       "      <td>3212-KXOCR</td>\n",
       "      <td>Male</td>\n",
       "      <td>0</td>\n",
       "      <td>No</td>\n",
       "      <td>No</td>\n",
       "      <td>52</td>\n",
       "      <td>Yes</td>\n",
       "      <td>No</td>\n",
       "      <td>No</td>\n",
       "      <td>No internet service</td>\n",
       "      <td>...</td>\n",
       "      <td>No internet service</td>\n",
       "      <td>No internet service</td>\n",
       "      <td>No internet service</td>\n",
       "      <td>No internet service</td>\n",
       "      <td>Two year</td>\n",
       "      <td>No</td>\n",
       "      <td>Bank transfer (automatic)</td>\n",
       "      <td>21.00</td>\n",
       "      <td>1107.2</td>\n",
       "      <td>No</td>\n",
       "    </tr>\n",
       "    <tr>\n",
       "      <th>99</th>\n",
       "      <td>4598-XLKNJ</td>\n",
       "      <td>Female</td>\n",
       "      <td>1</td>\n",
       "      <td>Yes</td>\n",
       "      <td>No</td>\n",
       "      <td>25</td>\n",
       "      <td>Yes</td>\n",
       "      <td>No</td>\n",
       "      <td>Fiber optic</td>\n",
       "      <td>No</td>\n",
       "      <td>...</td>\n",
       "      <td>Yes</td>\n",
       "      <td>No</td>\n",
       "      <td>Yes</td>\n",
       "      <td>Yes</td>\n",
       "      <td>Month-to-month</td>\n",
       "      <td>Yes</td>\n",
       "      <td>Electronic check</td>\n",
       "      <td>98.50</td>\n",
       "      <td>2514.5</td>\n",
       "      <td>Yes</td>\n",
       "    </tr>\n",
       "  </tbody>\n",
       "</table>\n",
       "<p>100 rows × 21 columns</p>\n",
       "</div>"
      ],
      "text/plain": [
       "    customerID  gender  SeniorCitizen Partner Dependents  tenure PhoneService  \\\n",
       "0   7590-VHVEG  Female              0     Yes         No       1           No   \n",
       "1   5575-GNVDE    Male              0      No         No      34          Yes   \n",
       "2   3668-QPYBK    Male              0      No         No       2          Yes   \n",
       "3   7795-CFOCW    Male              0      No         No      45           No   \n",
       "4   9237-HQITU  Female              0      No         No       2          Yes   \n",
       "..         ...     ...            ...     ...        ...     ...          ...   \n",
       "95  8637-XJIVR  Female              0      No         No      12          Yes   \n",
       "96  9803-FTJCG    Male              0     Yes        Yes      71          Yes   \n",
       "97  0278-YXOOG    Male              0      No         No       5          Yes   \n",
       "98  3212-KXOCR    Male              0      No         No      52          Yes   \n",
       "99  4598-XLKNJ  Female              1     Yes         No      25          Yes   \n",
       "\n",
       "       MultipleLines InternetService       OnlineSecurity  ...  \\\n",
       "0   No phone service             DSL                   No  ...   \n",
       "1                 No             DSL                  Yes  ...   \n",
       "2                 No             DSL                  Yes  ...   \n",
       "3   No phone service             DSL                  Yes  ...   \n",
       "4                 No     Fiber optic                   No  ...   \n",
       "..               ...             ...                  ...  ...   \n",
       "95               Yes     Fiber optic                  Yes  ...   \n",
       "96               Yes             DSL                  Yes  ...   \n",
       "97                No              No  No internet service  ...   \n",
       "98                No              No  No internet service  ...   \n",
       "99                No     Fiber optic                   No  ...   \n",
       "\n",
       "       DeviceProtection          TechSupport          StreamingTV  \\\n",
       "0                    No                   No                   No   \n",
       "1                   Yes                   No                   No   \n",
       "2                    No                   No                   No   \n",
       "3                   Yes                  Yes                   No   \n",
       "4                    No                   No                   No   \n",
       "..                  ...                  ...                  ...   \n",
       "95                   No                   No                   No   \n",
       "96                   No                  Yes                   No   \n",
       "97  No internet service  No internet service  No internet service   \n",
       "98  No internet service  No internet service  No internet service   \n",
       "99                  Yes                   No                  Yes   \n",
       "\n",
       "        StreamingMovies        Contract PaperlessBilling  \\\n",
       "0                    No  Month-to-month              Yes   \n",
       "1                    No        One year               No   \n",
       "2                    No  Month-to-month              Yes   \n",
       "3                    No        One year               No   \n",
       "4                    No  Month-to-month              Yes   \n",
       "..                  ...             ...              ...   \n",
       "95                   No  Month-to-month              Yes   \n",
       "96                   No        One year              Yes   \n",
       "97  No internet service  Month-to-month               No   \n",
       "98  No internet service        Two year               No   \n",
       "99                  Yes  Month-to-month              Yes   \n",
       "\n",
       "                PaymentMethod MonthlyCharges  TotalCharges Churn  \n",
       "0            Electronic check          29.85         29.85    No  \n",
       "1                Mailed check          56.95        1889.5    No  \n",
       "2                Mailed check          53.85        108.15   Yes  \n",
       "3   Bank transfer (automatic)          42.30       1840.75    No  \n",
       "4            Electronic check          70.70        151.65   Yes  \n",
       "..                        ...            ...           ...   ...  \n",
       "95           Electronic check          78.95        927.35   Yes  \n",
       "96    Credit card (automatic)          66.85        4748.7    No  \n",
       "97               Mailed check          21.05        113.85   Yes  \n",
       "98  Bank transfer (automatic)          21.00        1107.2    No  \n",
       "99           Electronic check          98.50        2514.5   Yes  \n",
       "\n",
       "[100 rows x 21 columns]"
      ]
     },
     "execution_count": 2,
     "metadata": {},
     "output_type": "execute_result"
    }
   ],
   "source": [
    "telco_churn= pd.read_csv(\"C:\\\\Users\\\\Inemesit Ido\\\\Desktop\\\\DOCS\\\\Datanerds\\\\Telco-Customer-Churn.csv\")\n",
    "telco_churn.head(100)"
   ]
  },
  {
   "cell_type": "code",
   "execution_count": 3,
   "metadata": {
    "colab": {
     "base_uri": "https://localhost:8080/"
    },
    "id": "0iggJKAqS7St",
    "outputId": "0555a524-43d0-49a8-a846-6b8a8855bf25"
   },
   "outputs": [
    {
     "name": "stdout",
     "output_type": "stream",
     "text": [
      "<class 'pandas.core.frame.DataFrame'>\n",
      "RangeIndex: 7043 entries, 0 to 7042\n",
      "Data columns (total 21 columns):\n",
      " #   Column            Non-Null Count  Dtype  \n",
      "---  ------            --------------  -----  \n",
      " 0   customerID        7043 non-null   object \n",
      " 1   gender            7043 non-null   object \n",
      " 2   SeniorCitizen     7043 non-null   int64  \n",
      " 3   Partner           7043 non-null   object \n",
      " 4   Dependents        7043 non-null   object \n",
      " 5   tenure            7043 non-null   int64  \n",
      " 6   PhoneService      7043 non-null   object \n",
      " 7   MultipleLines     7043 non-null   object \n",
      " 8   InternetService   7043 non-null   object \n",
      " 9   OnlineSecurity    7043 non-null   object \n",
      " 10  OnlineBackup      7043 non-null   object \n",
      " 11  DeviceProtection  7043 non-null   object \n",
      " 12  TechSupport       7043 non-null   object \n",
      " 13  StreamingTV       7043 non-null   object \n",
      " 14  StreamingMovies   7043 non-null   object \n",
      " 15  Contract          7043 non-null   object \n",
      " 16  PaperlessBilling  7043 non-null   object \n",
      " 17  PaymentMethod     7043 non-null   object \n",
      " 18  MonthlyCharges    7043 non-null   float64\n",
      " 19  TotalCharges      7043 non-null   object \n",
      " 20  Churn             7043 non-null   object \n",
      "dtypes: float64(1), int64(2), object(18)\n",
      "memory usage: 1.1+ MB\n"
     ]
    }
   ],
   "source": [
    "telco_churn.info()"
   ]
  },
  {
   "cell_type": "code",
   "execution_count": 4,
   "metadata": {
    "colab": {
     "base_uri": "https://localhost:8080/"
    },
    "id": "ckOtVRbCb2w2",
    "outputId": "5966dfa8-f9ec-4907-e341-07aa2cc45f7c"
   },
   "outputs": [
    {
     "name": "stdout",
     "output_type": "stream",
     "text": [
      "object\n",
      "float64\n"
     ]
    }
   ],
   "source": [
    "# Check the data type of the 'TotalCharges' column\n",
    "print(telco_churn['TotalCharges'].dtype)\n",
    "\n",
    "# Convert 'TotalCharges' to a numeric data type, using 'coerce' to handle errors\n",
    "telco_churn['TotalCharges'] = pd.to_numeric(telco_churn['TotalCharges'], errors='coerce')\n",
    "\n",
    "# Check the data type again to confirm the change\n",
    "print(telco_churn['TotalCharges'].dtype)\n"
   ]
  },
  {
   "cell_type": "code",
   "execution_count": 5,
   "metadata": {},
   "outputs": [
    {
     "name": "stdout",
     "output_type": "stream",
     "text": [
      "      customerID  gender  SeniorCitizen Partner Dependents  tenure  \\\n",
      "488   4472-LVYGI  Female              0     Yes        Yes       0   \n",
      "753   3115-CZMZD    Male              0      No        Yes       0   \n",
      "936   5709-LVOEQ  Female              0     Yes        Yes       0   \n",
      "1082  4367-NUYAO    Male              0     Yes        Yes       0   \n",
      "1340  1371-DWPAZ  Female              0     Yes        Yes       0   \n",
      "3331  7644-OMVMY    Male              0     Yes        Yes       0   \n",
      "3826  3213-VVOLG    Male              0     Yes        Yes       0   \n",
      "4380  2520-SGTTA  Female              0     Yes        Yes       0   \n",
      "5218  2923-ARZLG    Male              0     Yes        Yes       0   \n",
      "6670  4075-WKNIU  Female              0     Yes        Yes       0   \n",
      "6754  2775-SEFEE    Male              0      No        Yes       0   \n",
      "\n",
      "     PhoneService     MultipleLines InternetService       OnlineSecurity  ...  \\\n",
      "488            No  No phone service             DSL                  Yes  ...   \n",
      "753           Yes                No              No  No internet service  ...   \n",
      "936           Yes                No             DSL                  Yes  ...   \n",
      "1082          Yes               Yes              No  No internet service  ...   \n",
      "1340           No  No phone service             DSL                  Yes  ...   \n",
      "3331          Yes                No              No  No internet service  ...   \n",
      "3826          Yes               Yes              No  No internet service  ...   \n",
      "4380          Yes                No              No  No internet service  ...   \n",
      "5218          Yes                No              No  No internet service  ...   \n",
      "6670          Yes               Yes             DSL                   No  ...   \n",
      "6754          Yes               Yes             DSL                  Yes  ...   \n",
      "\n",
      "         DeviceProtection          TechSupport          StreamingTV  \\\n",
      "488                   Yes                  Yes                  Yes   \n",
      "753   No internet service  No internet service  No internet service   \n",
      "936                   Yes                   No                  Yes   \n",
      "1082  No internet service  No internet service  No internet service   \n",
      "1340                  Yes                  Yes                  Yes   \n",
      "3331  No internet service  No internet service  No internet service   \n",
      "3826  No internet service  No internet service  No internet service   \n",
      "4380  No internet service  No internet service  No internet service   \n",
      "5218  No internet service  No internet service  No internet service   \n",
      "6670                  Yes                  Yes                  Yes   \n",
      "6754                   No                  Yes                   No   \n",
      "\n",
      "          StreamingMovies  Contract PaperlessBilling  \\\n",
      "488                    No  Two year              Yes   \n",
      "753   No internet service  Two year               No   \n",
      "936                   Yes  Two year               No   \n",
      "1082  No internet service  Two year               No   \n",
      "1340                   No  Two year               No   \n",
      "3331  No internet service  Two year               No   \n",
      "3826  No internet service  Two year               No   \n",
      "4380  No internet service  Two year               No   \n",
      "5218  No internet service  One year              Yes   \n",
      "6670                   No  Two year               No   \n",
      "6754                   No  Two year              Yes   \n",
      "\n",
      "                  PaymentMethod MonthlyCharges  TotalCharges  Churn  \n",
      "488   Bank transfer (automatic)          52.55           NaN     No  \n",
      "753                Mailed check          20.25           NaN     No  \n",
      "936                Mailed check          80.85           NaN     No  \n",
      "1082               Mailed check          25.75           NaN     No  \n",
      "1340    Credit card (automatic)          56.05           NaN     No  \n",
      "3331               Mailed check          19.85           NaN     No  \n",
      "3826               Mailed check          25.35           NaN     No  \n",
      "4380               Mailed check          20.00           NaN     No  \n",
      "5218               Mailed check          19.70           NaN     No  \n",
      "6670               Mailed check          73.35           NaN     No  \n",
      "6754  Bank transfer (automatic)          61.90           NaN     No  \n",
      "\n",
      "[11 rows x 21 columns]\n"
     ]
    }
   ],
   "source": [
    "# Find rows with non-numeric data (before conversion)\n",
    "non_numeric_values = telco_churn[telco_churn['TotalCharges'].apply(pd.to_numeric, errors='coerce').isna()]\n",
    "print(non_numeric_values)\n"
   ]
  },
  {
   "cell_type": "code",
   "execution_count": 6,
   "metadata": {},
   "outputs": [
    {
     "name": "stdout",
     "output_type": "stream",
     "text": [
      "Number of empty strings: 0\n"
     ]
    }
   ],
   "source": [
    "empty_strings = telco_churn[telco_churn['TotalCharges'] == '']\n",
    "print(f\"Number of empty strings: {len(empty_strings)}\")\n"
   ]
  },
  {
   "cell_type": "code",
   "execution_count": 7,
   "metadata": {},
   "outputs": [
    {
     "name": "stdout",
     "output_type": "stream",
     "text": [
      "Number of null values in 'TotalCharges': 11\n"
     ]
    }
   ],
   "source": [
    "# Check if there are any null values in the 'TotalCharges' column\n",
    "null_totalcharges = telco_churn['TotalCharges'].isnull().sum()\n",
    "\n",
    "# Print the result\n",
    "print(f\"Number of null values in 'TotalCharges': {null_totalcharges}\")\n"
   ]
  },
  {
   "cell_type": "code",
   "execution_count": 8,
   "metadata": {},
   "outputs": [],
   "source": [
    "from sklearn.impute import SimpleImputer\n",
    "\n",
    "# An imputer object is created to fill missing values in 'TotalCharges' with the mean (or median)\n",
    "imputer = SimpleImputer(strategy='mean')  # You can use 'median' if preferred\n",
    "\n",
    "# Imputing mean to replace the missing values in 'TotalCharges'\n",
    "telco_churn['TotalCharges'] = imputer.fit_transform(telco_churn[['TotalCharges']])\n"
   ]
  },
  {
   "cell_type": "code",
   "execution_count": 9,
   "metadata": {},
   "outputs": [
    {
     "name": "stdout",
     "output_type": "stream",
     "text": [
      "Empty DataFrame\n",
      "Columns: [customerID, gender, SeniorCitizen, Partner, Dependents, tenure, PhoneService, MultipleLines, InternetService, OnlineSecurity, OnlineBackup, DeviceProtection, TechSupport, StreamingTV, StreamingMovies, Contract, PaperlessBilling, PaymentMethod, MonthlyCharges, TotalCharges, Churn]\n",
      "Index: []\n",
      "\n",
      "[0 rows x 21 columns]\n"
     ]
    }
   ],
   "source": [
    "# Confirming if there are rows where 'TotalCharges' is NaN\n",
    "rows_with_nan = telco_churn[telco_churn['TotalCharges'].isna()]\n",
    "print(rows_with_nan)\n"
   ]
  },
  {
   "cell_type": "code",
   "execution_count": 10,
   "metadata": {
    "colab": {
     "base_uri": "https://localhost:8080/",
     "height": 178
    },
    "id": "6BnPV_glTFAs",
    "outputId": "565842a2-46a2-40f4-c3e4-e293a6526dbc"
   },
   "outputs": [
    {
     "data": {
      "text/plain": [
       "gender\n",
       "Male      3555\n",
       "Female    3488\n",
       "Name: count, dtype: int64"
      ]
     },
     "execution_count": 10,
     "metadata": {},
     "output_type": "execute_result"
    }
   ],
   "source": [
    "gender_count= telco_churn['gender'].value_counts()\n",
    "\n",
    "#OR\n",
    "\n",
    "gender_count"
   ]
  },
  {
   "cell_type": "code",
   "execution_count": 11,
   "metadata": {
    "colab": {
     "base_uri": "https://localhost:8080/",
     "height": 178
    },
    "id": "oAogn8HyTXZG",
    "outputId": "48bfdca7-c991-4201-9d94-03ed15e074a9"
   },
   "outputs": [
    {
     "data": {
      "text/plain": [
       "gender\n",
       "Female    3488\n",
       "Male      3555\n",
       "dtype: int64"
      ]
     },
     "execution_count": 11,
     "metadata": {},
     "output_type": "execute_result"
    }
   ],
   "source": [
    "gender= telco_churn.groupby('gender').size()\n",
    "gender"
   ]
  },
  {
   "cell_type": "code",
   "execution_count": 12,
   "metadata": {
    "colab": {
     "base_uri": "https://localhost:8080/",
     "height": 508
    },
    "id": "pNKZbmXST7Xb",
    "outputId": "4dbcff05-7382-430f-a030-b070233734ae"
   },
   "outputs": [
    {
     "data": {
      "image/png": "[encoded data removed]",
      "text/plain": [
       "<Figure size 640x480 with 1 Axes>"
      ]
     },
     "metadata": {},
     "output_type": "display_data"
    }
   ],
   "source": [
    "# To know the gender ratio of customers using a bar chart\n",
    "gender_count.plot(kind= 'bar', title= 'Gender_count', color='purple')\n",
    "plt.xlabel('Gender')\n",
    "plt.ylabel('Count')\n",
    "plt.show()"
   ]
  },
  {
   "cell_type": "markdown",
   "metadata": {},
   "source": [
    "# Demographic Impact on Churn:\n",
    "**Goal**: To investigate how customer characteristics like gender, SeniorCitizen, Partner, and Dependents impact churn.\n"
   ]
  },
  {
   "cell_type": "code",
   "execution_count": 13,
   "metadata": {
    "colab": {
     "base_uri": "https://localhost:8080/",
     "height": 143
    },
    "id": "sCFq4h91WvPM",
    "outputId": "383d5dba-2c05-4e41-97ca-1bd3e943f6aa"
   },
   "outputs": [
    {
     "data": {
      "text/html": [
       "<div>\n",
       "<style scoped>\n",
       "    .dataframe tbody tr th:only-of-type {\n",
       "        vertical-align: middle;\n",
       "    }\n",
       "\n",
       "    .dataframe tbody tr th {\n",
       "        vertical-align: top;\n",
       "    }\n",
       "\n",
       "    .dataframe thead th {\n",
       "        text-align: right;\n",
       "    }\n",
       "</style>\n",
       "<table border=\"1\" class=\"dataframe\">\n",
       "  <thead>\n",
       "    <tr style=\"text-align: right;\">\n",
       "      <th>gender</th>\n",
       "      <th>Female</th>\n",
       "      <th>Male</th>\n",
       "    </tr>\n",
       "    <tr>\n",
       "      <th>Churn</th>\n",
       "      <th></th>\n",
       "      <th></th>\n",
       "    </tr>\n",
       "  </thead>\n",
       "  <tbody>\n",
       "    <tr>\n",
       "      <th>No</th>\n",
       "      <td>2549</td>\n",
       "      <td>2625</td>\n",
       "    </tr>\n",
       "    <tr>\n",
       "      <th>Yes</th>\n",
       "      <td>939</td>\n",
       "      <td>930</td>\n",
       "    </tr>\n",
       "  </tbody>\n",
       "</table>\n",
       "</div>"
      ],
      "text/plain": [
       "gender  Female  Male\n",
       "Churn               \n",
       "No        2549  2625\n",
       "Yes        939   930"
      ]
     },
     "execution_count": 13,
     "metadata": {},
     "output_type": "execute_result"
    }
   ],
   "source": [
    "# Gender based on being senior citizenship\n",
    "gender_churn= telco_churn.groupby([\"Churn\", \"gender\"]).size().unstack()\n",
    "gender_churn"
   ]
  },
  {
   "cell_type": "code",
   "execution_count": 14,
   "metadata": {
    "colab": {
     "base_uri": "https://localhost:8080/",
     "height": 480
    },
    "id": "axi3IMiuar8_",
    "outputId": "c2a6a5c6-e06b-4ee2-c6f2-cc6d4df42851"
   },
   "outputs": [
    {
     "data": {
      "image/png": "[encoded data removed]",
      "text/plain": [
       "<Figure size 640x480 with 1 Axes>"
      ]
     },
     "metadata": {},
     "output_type": "display_data"
    }
   ],
   "source": [
    "# Plotting gender-based senior citizenship\n",
    "ax= gender_churn.plot( kind= 'bar', color= ['purple', 'blue'])\n",
    "plt.xlabel('Churn')\n",
    "plt.ylabel('Count')\n",
    "plt.title('Gender based Churn')\n",
    "\n",
    "# Adding count labels on top of each bar\n",
    "for churn in ax.patches:  # 'ax.patches' contains all the bars in the plot\n",
    "    ax.text(churn.get_x() + churn.get_width() / 2,    # X-coordinate: center of the bar\n",
    "            churn.get_height(),                   # Y-coordinate: height of the bar\n",
    "            str(int(churn.get_height())),         # Text to display (height of the bar as integer)\n",
    "            ha='center',                      # Center alignment horizontally\n",
    "            va='bottom',                      # Bottom alignment vertically (text above the bar)\n",
    "            fontsize=10,                      # Font size of the text\n",
    "            color='black')                    # Text color\n",
    "\n",
    "# Show the plot\n",
    "plt.show()"
   ]
  },
  {
   "cell_type": "code",
   "execution_count": 15,
   "metadata": {},
   "outputs": [
    {
     "data": {
      "image/png": "[encoded data removed]",
      "text/plain": [
       "<Figure size 640x480 with 1 Axes>"
      ]
     },
     "metadata": {},
     "output_type": "display_data"
    }
   ],
   "source": [
    "SeniorCitizen_churn= telco_churn.groupby([\"Churn\", \"SeniorCitizen\"]).size().unstack()\n",
    "# Plotting gender-based senior citizenship\n",
    "ax= SeniorCitizen_churn.plot( kind= 'bar', color= ['purple', 'blue'])\n",
    "plt.xlabel('Churn')\n",
    "plt.ylabel('Count')\n",
    "plt.title('SeniorCitizen based Churn')\n",
    "\n",
    "# Adding count labels on top of each bar\n",
    "for churn in ax.patches:  # 'ax.patches' contains all the bars in the plot\n",
    "    ax.text(churn.get_x() + churn.get_width() / 2,    # X-coordinate: center of the bar\n",
    "            churn.get_height(),                   # Y-coordinate: height of the bar\n",
    "            str(int(churn.get_height())),         # Text to display (height of the bar as integer)\n",
    "            ha='center',                      # Center alignment horizontally\n",
    "            va='bottom',                      # Bottom alignment vertically (text above the bar)\n",
    "            fontsize=10,                      # Font size of the text\n",
    "            color='black')                    # Text color\n",
    "\n",
    "# Show the plot\n",
    "plt.show()"
   ]
  },
  {
   "cell_type": "code",
   "execution_count": 16,
   "metadata": {},
   "outputs": [
    {
     "data": {
      "text/html": [
       "<div>\n",
       "<style scoped>\n",
       "    .dataframe tbody tr th:only-of-type {\n",
       "        vertical-align: middle;\n",
       "    }\n",
       "\n",
       "    .dataframe tbody tr th {\n",
       "        vertical-align: top;\n",
       "    }\n",
       "\n",
       "    .dataframe thead th {\n",
       "        text-align: right;\n",
       "    }\n",
       "</style>\n",
       "<table border=\"1\" class=\"dataframe\">\n",
       "  <thead>\n",
       "    <tr style=\"text-align: right;\">\n",
       "      <th>Partner</th>\n",
       "      <th>No</th>\n",
       "      <th>Yes</th>\n",
       "    </tr>\n",
       "    <tr>\n",
       "      <th>Churn</th>\n",
       "      <th></th>\n",
       "      <th></th>\n",
       "    </tr>\n",
       "  </thead>\n",
       "  <tbody>\n",
       "    <tr>\n",
       "      <th>No</th>\n",
       "      <td>2441</td>\n",
       "      <td>2733</td>\n",
       "    </tr>\n",
       "    <tr>\n",
       "      <th>Yes</th>\n",
       "      <td>1200</td>\n",
       "      <td>669</td>\n",
       "    </tr>\n",
       "  </tbody>\n",
       "</table>\n",
       "</div>"
      ],
      "text/plain": [
       "Partner    No   Yes\n",
       "Churn              \n",
       "No       2441  2733\n",
       "Yes      1200   669"
      ]
     },
     "execution_count": 16,
     "metadata": {},
     "output_type": "execute_result"
    }
   ],
   "source": [
    "Partner_churn= telco_churn.groupby([\"Churn\", \"Partner\"]).size().unstack()\n",
    "Partner_churn"
   ]
  },
  {
   "cell_type": "code",
   "execution_count": 17,
   "metadata": {},
   "outputs": [
    {
     "data": {
      "image/png": "[encoded data removed]",
      "text/plain": [
       "<Figure size 640x480 with 1 Axes>"
      ]
     },
     "metadata": {},
     "output_type": "display_data"
    }
   ],
   "source": [
    "Partner_churn= telco_churn.groupby([\"Churn\", \"Partner\"]).size().unstack()\n",
    "# Plotting gender-based senior citizenship\n",
    "ax= Partner_churn.plot( kind= 'bar', color= ['purple', 'blue'])\n",
    "plt.xlabel('Churn')\n",
    "plt.ylabel('Count')\n",
    "plt.title('Partner based Churn')\n",
    "\n",
    "# Adding count labels on top of each bar\n",
    "for churn in ax.patches:  # 'ax.patches' contains all the bars in the plot\n",
    "    ax.text(churn.get_x() + churn.get_width() / 2,    # X-coordinate: center of the bar\n",
    "            churn.get_height(),                   # Y-coordinate: height of the bar\n",
    "            str(int(churn.get_height())),         # Text to display (height of the bar as integer)\n",
    "            ha='center',                      # Center alignment horizontally\n",
    "            va='bottom',                      # Bottom alignment vertically (text above the bar)\n",
    "            fontsize=10,                      # Font size of the text\n",
    "            color='black')                    # Text color\n",
    "\n",
    "# Show the plot\n",
    "plt.show()"
   ]
  },
  {
   "cell_type": "code",
   "execution_count": 18,
   "metadata": {},
   "outputs": [
    {
     "data": {
      "image/png": "[encoded data removed]",
      "text/plain": [
       "<Figure size 640x480 with 1 Axes>"
      ]
     },
     "metadata": {},
     "output_type": "display_data"
    }
   ],
   "source": [
    "dependents_churn= telco_churn.groupby([\"Churn\", \"Dependents\"]).size().unstack()\n",
    "# Plotting gender-based senior citizenship\n",
    "ax= Partner_churn.plot( kind= 'bar', color= ['purple', 'blue'])\n",
    "plt.xlabel('Churn')\n",
    "plt.ylabel('Count')\n",
    "plt.title('Dependents based Churn')\n",
    "\n",
    "# Adding count labels on top of each bar\n",
    "for churn in ax.patches:  # 'ax.patches' contains all the bars in the plot\n",
    "    ax.text(churn.get_x() + churn.get_width() / 2,    # X-coordinate: center of the bar\n",
    "            churn.get_height(),                   # Y-coordinate: height of the bar\n",
    "            str(int(churn.get_height())),         # Text to display (height of the bar as integer)\n",
    "            ha='center',                      # Center alignment horizontally\n",
    "            va='bottom',                      # Bottom alignment vertically (text above the bar)\n",
    "            fontsize=10,                      # Font size of the text\n",
    "            color='black')                    # Text color\n",
    "\n",
    "# Show the plot\n",
    "plt.show()"
   ]
  },
  {
   "cell_type": "markdown",
   "metadata": {
    "id": "eOoE4jdukuBL"
   },
   "source": [
    "**Goal:**\n",
    "To calculate the overall churn rate, which shows the percentage of customers who stopped using the service. This is computed by dividing the number of churned customers (where Churn = Yes) by the total number of customers."
   ]
  },
  {
   "cell_type": "code",
   "execution_count": 19,
   "metadata": {},
   "outputs": [
    {
     "name": "stdout",
     "output_type": "stream",
     "text": [
      "The Overall churn rate is: 26.54%\n",
      "The female churn rate is: 26.92%\n",
      "The male churn rate is: 26.16%\n"
     ]
    }
   ],
   "source": [
    "'''Calculating churn percentage for genders'''\n",
    "\n",
    "# number of churned customers\n",
    "overall_churn= telco_churn[telco_churn[\"Churn\"]== 'Yes'].shape[0]\n",
    "# Number of female and male customers who churned\n",
    "female_churn = telco_churn[(telco_churn[\"gender\"] == 'Female') & (telco_churn[\"Churn\"] == 'Yes')].shape[0]\n",
    "male_churn = telco_churn[(telco_churn[\"gender\"] == 'Male') & (telco_churn[\"Churn\"] == 'Yes')].shape[0]\n",
    "\n",
    "# Total number of female and male customers\n",
    "total_females = telco_churn[telco_churn[\"gender\"] == 'Female'].shape[0]\n",
    "total_males = telco_churn[telco_churn[\"gender\"] == 'Male'].shape[0]\n",
    "#Total number of customers\n",
    "total_customers= telco_churn[\"gender\"].count()\n",
    "\n",
    "#Churn rate\n",
    "overall_churn_rate= (overall_churn / total_customers) * 100\n",
    "female_churn_rate= (female_churn / total_females) * 100\n",
    "male_churn_rate= (male_churn / total_males) * 100\n",
    "\n",
    "# Non churn rate \n",
    "\n",
    "#Printing out the churn rate\n",
    "print(f\"The Overall churn rate is: {overall_churn_rate:.2f}%\")\n",
    "print(f\"The female churn rate is: {female_churn_rate:.2f}%\")\n",
    "print(f\"The male churn rate is: {male_churn_rate:.2f}%\")"
   ]
  },
  {
   "cell_type": "code",
   "execution_count": 20,
   "metadata": {},
   "outputs": [
    {
     "name": "stdout",
     "output_type": "stream",
     "text": [
      "The Overall churn rate is: 26.54%\n",
      "The Senior citizen churn rate is: 41.68%\n",
      "The Non-Senior citizen churn rate is: 23.61%\n"
     ]
    }
   ],
   "source": [
    "''' Calculating churn percentage for Senior citizen'''\n",
    "\n",
    "# number of churned customers\n",
    "overall_churn= telco_churn[telco_churn[\"Churn\"]== 'Yes'].shape[0]\n",
    "# Number of senior and non senior citizens who churned\n",
    "senior_churn = telco_churn[(telco_churn[\"SeniorCitizen\"] == 1) & (telco_churn[\"Churn\"] == 'Yes')].shape[0]\n",
    "no_senior_churn = telco_churn[(telco_churn[\"SeniorCitizen\"] == 0) & (telco_churn[\"Churn\"] == 'Yes')].shape[0]\n",
    "\n",
    "\n",
    "#Total number of customers\n",
    "total_customers= telco_churn[\"SeniorCitizen\"].count()\n",
    "# total senior and non-senior citizens\n",
    "total_senior_citizens = telco_churn[telco_churn[\"SeniorCitizen\"] == 1].shape[0]\n",
    "total_non_senior_citizens = telco_churn[telco_churn[\"SeniorCitizen\"] == 0].shape[0]\n",
    "\n",
    "\n",
    "#Churn rate\n",
    "overall_churn_rate= (overall_churn / total_customers) * 100\n",
    "senior_churn_rate= (senior_churn / total_senior_citizens) * 100\n",
    "non_senior_churn_rate= (no_senior_churn / total_non_senior_citizens) * 100\n",
    "\n",
    "# Non churn rate \n",
    "\n",
    "#Printing out the churn rate\n",
    "print(f\"The Overall churn rate is: {overall_churn_rate:.2f}%\")\n",
    "print(f\"The Senior citizen churn rate is: {senior_churn_rate:.2f}%\")\n",
    "print(f\"The Non-Senior citizen churn rate is: {non_senior_churn_rate:.2f}%\")"
   ]
  },
  {
   "cell_type": "code",
   "execution_count": 21,
   "metadata": {},
   "outputs": [
    {
     "name": "stdout",
     "output_type": "stream",
     "text": [
      "1869\n",
      "The Overall churn rate is: 26.54%\n",
      "The dependents churn rate is: 15.45%\n",
      "The non_dependents churn rate is: 31.28%\n"
     ]
    }
   ],
   "source": [
    "'''Calculating churn percentage for dependents'''\n",
    "\n",
    "# number of churned customers\n",
    "overall_churn= telco_churn[telco_churn[\"Churn\"]== 'Yes'].shape[0]\n",
    "# Number of female and male customers who churned\n",
    "dependents_churn = telco_churn[(telco_churn[\"Dependents\"] == 'Yes') & (telco_churn[\"Churn\"] == 'Yes')].shape[0]\n",
    "non_dependents_churn = telco_churn[(telco_churn[\"Dependents\"] == 'No') & (telco_churn[\"Churn\"] == 'Yes')].shape[0]\n",
    "\n",
    "# Total number of female and male customers\n",
    "total_dependents = telco_churn[telco_churn[\"Dependents\"] == 'Yes'].shape[0]\n",
    "total_non_dependents = telco_churn[telco_churn[\"Dependents\"] == 'No'].shape[0]\n",
    "#Total number of customers\n",
    "total_customers= telco_churn[\"Dependents\"].count()\n",
    "print(overall_churn)\n",
    "#Churn rate\n",
    "overall_churn_rate= (overall_churn / total_customers) * 100\n",
    "dependents_churn_rate= (dependents_churn / total_dependents) * 100\n",
    "non_dependents_churn_rate= (non_dependents_churn / total_non_dependents) * 100 \n",
    "\n",
    "#Printing out the churn rate\n",
    "print(f\"The Overall churn rate is: {overall_churn_rate:.2f}%\")\n",
    "print(f\"The dependents churn rate is: {dependents_churn_rate:.2f}%\")\n",
    "print(f\"The non_dependents churn rate is: {non_dependents_churn_rate:.2f}%\")"
   ]
  },
  {
   "cell_type": "code",
   "execution_count": 22,
   "metadata": {},
   "outputs": [
    {
     "name": "stdout",
     "output_type": "stream",
     "text": [
      "The Overall churn rate is: 26.54%\n",
      "The partner churn rate is: 19.66%\n",
      "The non_partners churn rate is: 32.96%\n"
     ]
    }
   ],
   "source": [
    "'''Calculating churn percentage partners'''\n",
    "\n",
    "# number of churned customers\n",
    "overall_churn= telco_churn[telco_churn[\"Churn\"]== 'Yes'].shape[0]\n",
    "# Number of female and male customers who churned\n",
    "partner_churn = telco_churn[(telco_churn[\"Partner\"] == 'Yes') & (telco_churn[\"Churn\"] == 'Yes')].shape[0]\n",
    "non_partner_churn = telco_churn[(telco_churn[\"Partner\"] == 'No') & (telco_churn[\"Churn\"] == 'Yes')].shape[0]\n",
    "\n",
    "# Total number of female and male customers\n",
    "total_partners = telco_churn[telco_churn[\"Partner\"] == 'Yes'].shape[0]\n",
    "total_non_partners = telco_churn[telco_churn[\"Partner\"] == 'No'].shape[0]\n",
    "#Total number of customers\n",
    "total_customers= telco_churn[\"Partner\"].count()\n",
    "\n",
    "#Churn rate\n",
    "overall_churn_rate= (overall_churn / total_customers) * 100\n",
    "partners_churn_rate= (partner_churn / total_partners) * 100\n",
    "non_partners_churn_rate= (non_partner_churn / total_non_partners) * 100 \n",
    "\n",
    "#Printing out the churn rate\n",
    "print(f\"The Overall churn rate is: {overall_churn_rate:.2f}%\")\n",
    "print(f\"The partner churn rate is: {partners_churn_rate:.2f}%\")\n",
    "print(f\"The non_partners churn rate is: {non_partners_churn_rate:.2f}%\")"
   ]
  },
  {
   "cell_type": "markdown",
   "metadata": {},
   "source": [
    "# Customer Segmentation\n",
    "\n",
    "## Tenure-Based Segmentation:\n",
    "\n",
    "**Goal:**\n",
    "Group customers based on how long they've been with the company (tenure), and analyze their service usage, churn rates, and payment behavior.\n",
    "\n",
    "**Note:** Creating groups like 0-12 months, 12-24 months, and more than 24 months, to observe how churn changes. "
   ]
  },
  {
   "cell_type": "code",
   "execution_count": 23,
   "metadata": {},
   "outputs": [
    {
     "data": {
      "text/html": [
       "<div>\n",
       "<style scoped>\n",
       "    .dataframe tbody tr th:only-of-type {\n",
       "        vertical-align: middle;\n",
       "    }\n",
       "\n",
       "    .dataframe tbody tr th {\n",
       "        vertical-align: top;\n",
       "    }\n",
       "\n",
       "    .dataframe thead th {\n",
       "        text-align: right;\n",
       "    }\n",
       "</style>\n",
       "<table border=\"1\" class=\"dataframe\">\n",
       "  <thead>\n",
       "    <tr style=\"text-align: right;\">\n",
       "      <th></th>\n",
       "      <th>customerID</th>\n",
       "      <th>gender</th>\n",
       "      <th>SeniorCitizen</th>\n",
       "      <th>Partner</th>\n",
       "      <th>Dependents</th>\n",
       "      <th>tenure</th>\n",
       "      <th>PhoneService</th>\n",
       "      <th>MultipleLines</th>\n",
       "      <th>InternetService</th>\n",
       "      <th>OnlineSecurity</th>\n",
       "      <th>...</th>\n",
       "      <th>DeviceProtection</th>\n",
       "      <th>TechSupport</th>\n",
       "      <th>StreamingTV</th>\n",
       "      <th>StreamingMovies</th>\n",
       "      <th>Contract</th>\n",
       "      <th>PaperlessBilling</th>\n",
       "      <th>PaymentMethod</th>\n",
       "      <th>MonthlyCharges</th>\n",
       "      <th>TotalCharges</th>\n",
       "      <th>Churn</th>\n",
       "    </tr>\n",
       "  </thead>\n",
       "  <tbody>\n",
       "    <tr>\n",
       "      <th>0</th>\n",
       "      <td>7590-VHVEG</td>\n",
       "      <td>Female</td>\n",
       "      <td>0</td>\n",
       "      <td>Yes</td>\n",
       "      <td>No</td>\n",
       "      <td>1</td>\n",
       "      <td>No</td>\n",
       "      <td>No phone service</td>\n",
       "      <td>DSL</td>\n",
       "      <td>No</td>\n",
       "      <td>...</td>\n",
       "      <td>No</td>\n",
       "      <td>No</td>\n",
       "      <td>No</td>\n",
       "      <td>No</td>\n",
       "      <td>Month-to-month</td>\n",
       "      <td>Yes</td>\n",
       "      <td>Electronic check</td>\n",
       "      <td>29.85</td>\n",
       "      <td>29.85</td>\n",
       "      <td>No</td>\n",
       "    </tr>\n",
       "    <tr>\n",
       "      <th>1</th>\n",
       "      <td>5575-GNVDE</td>\n",
       "      <td>Male</td>\n",
       "      <td>0</td>\n",
       "      <td>No</td>\n",
       "      <td>No</td>\n",
       "      <td>34</td>\n",
       "      <td>Yes</td>\n",
       "      <td>No</td>\n",
       "      <td>DSL</td>\n",
       "      <td>Yes</td>\n",
       "      <td>...</td>\n",
       "      <td>Yes</td>\n",
       "      <td>No</td>\n",
       "      <td>No</td>\n",
       "      <td>No</td>\n",
       "      <td>One year</td>\n",
       "      <td>No</td>\n",
       "      <td>Mailed check</td>\n",
       "      <td>56.95</td>\n",
       "      <td>1889.50</td>\n",
       "      <td>No</td>\n",
       "    </tr>\n",
       "    <tr>\n",
       "      <th>2</th>\n",
       "      <td>3668-QPYBK</td>\n",
       "      <td>Male</td>\n",
       "      <td>0</td>\n",
       "      <td>No</td>\n",
       "      <td>No</td>\n",
       "      <td>2</td>\n",
       "      <td>Yes</td>\n",
       "      <td>No</td>\n",
       "      <td>DSL</td>\n",
       "      <td>Yes</td>\n",
       "      <td>...</td>\n",
       "      <td>No</td>\n",
       "      <td>No</td>\n",
       "      <td>No</td>\n",
       "      <td>No</td>\n",
       "      <td>Month-to-month</td>\n",
       "      <td>Yes</td>\n",
       "      <td>Mailed check</td>\n",
       "      <td>53.85</td>\n",
       "      <td>108.15</td>\n",
       "      <td>Yes</td>\n",
       "    </tr>\n",
       "    <tr>\n",
       "      <th>3</th>\n",
       "      <td>7795-CFOCW</td>\n",
       "      <td>Male</td>\n",
       "      <td>0</td>\n",
       "      <td>No</td>\n",
       "      <td>No</td>\n",
       "      <td>45</td>\n",
       "      <td>No</td>\n",
       "      <td>No phone service</td>\n",
       "      <td>DSL</td>\n",
       "      <td>Yes</td>\n",
       "      <td>...</td>\n",
       "      <td>Yes</td>\n",
       "      <td>Yes</td>\n",
       "      <td>No</td>\n",
       "      <td>No</td>\n",
       "      <td>One year</td>\n",
       "      <td>No</td>\n",
       "      <td>Bank transfer (automatic)</td>\n",
       "      <td>42.30</td>\n",
       "      <td>1840.75</td>\n",
       "      <td>No</td>\n",
       "    </tr>\n",
       "    <tr>\n",
       "      <th>4</th>\n",
       "      <td>9237-HQITU</td>\n",
       "      <td>Female</td>\n",
       "      <td>0</td>\n",
       "      <td>No</td>\n",
       "      <td>No</td>\n",
       "      <td>2</td>\n",
       "      <td>Yes</td>\n",
       "      <td>No</td>\n",
       "      <td>Fiber optic</td>\n",
       "      <td>No</td>\n",
       "      <td>...</td>\n",
       "      <td>No</td>\n",
       "      <td>No</td>\n",
       "      <td>No</td>\n",
       "      <td>No</td>\n",
       "      <td>Month-to-month</td>\n",
       "      <td>Yes</td>\n",
       "      <td>Electronic check</td>\n",
       "      <td>70.70</td>\n",
       "      <td>151.65</td>\n",
       "      <td>Yes</td>\n",
       "    </tr>\n",
       "  </tbody>\n",
       "</table>\n",
       "<p>5 rows × 21 columns</p>\n",
       "</div>"
      ],
      "text/plain": [
       "   customerID  gender  SeniorCitizen Partner Dependents  tenure PhoneService  \\\n",
       "0  7590-VHVEG  Female              0     Yes         No       1           No   \n",
       "1  5575-GNVDE    Male              0      No         No      34          Yes   \n",
       "2  3668-QPYBK    Male              0      No         No       2          Yes   \n",
       "3  7795-CFOCW    Male              0      No         No      45           No   \n",
       "4  9237-HQITU  Female              0      No         No       2          Yes   \n",
       "\n",
       "      MultipleLines InternetService OnlineSecurity  ... DeviceProtection  \\\n",
       "0  No phone service             DSL             No  ...               No   \n",
       "1                No             DSL            Yes  ...              Yes   \n",
       "2                No             DSL            Yes  ...               No   \n",
       "3  No phone service             DSL            Yes  ...              Yes   \n",
       "4                No     Fiber optic             No  ...               No   \n",
       "\n",
       "  TechSupport StreamingTV StreamingMovies        Contract PaperlessBilling  \\\n",
       "0          No          No              No  Month-to-month              Yes   \n",
       "1          No          No              No        One year               No   \n",
       "2          No          No              No  Month-to-month              Yes   \n",
       "3         Yes          No              No        One year               No   \n",
       "4          No          No              No  Month-to-month              Yes   \n",
       "\n",
       "               PaymentMethod MonthlyCharges  TotalCharges  Churn  \n",
       "0           Electronic check          29.85         29.85     No  \n",
       "1               Mailed check          56.95       1889.50     No  \n",
       "2               Mailed check          53.85        108.15    Yes  \n",
       "3  Bank transfer (automatic)          42.30       1840.75     No  \n",
       "4           Electronic check          70.70        151.65    Yes  \n",
       "\n",
       "[5 rows x 21 columns]"
      ]
     },
     "execution_count": 23,
     "metadata": {},
     "output_type": "execute_result"
    }
   ],
   "source": [
    "telco_churn2= telco_churn.copy()\n",
    "telco_churn2.head()"
   ]
  },
  {
   "cell_type": "code",
   "execution_count": 24,
   "metadata": {},
   "outputs": [
    {
     "name": "stderr",
     "output_type": "stream",
     "text": [
      "C:\\Users\\Inemesit Ido\\AppData\\Local\\Temp\\ipykernel_14816\\3754087890.py:11: FutureWarning: The default of observed=False is deprecated and will be changed to True in a future version of pandas. Pass observed=False to retain current behavior or observed=True to adopt the future default and silence this warning.\n",
      "  tenure_churn_group = telco_churn2.groupby(['TenureGroup', 'Churn']).size().unstack()\n"
     ]
    },
    {
     "data": {
      "text/plain": [
       "<Figure size 800x600 with 0 Axes>"
      ]
     },
     "metadata": {},
     "output_type": "display_data"
    },
    {
     "data": {
      "image/png": "[encoded data removed]",
      "text/plain": [
       "<Figure size 640x480 with 1 Axes>"
      ]
     },
     "metadata": {},
     "output_type": "display_data"
    }
   ],
   "source": [
    "import pandas as pd\n",
    "\n",
    "# Define tenure groups\n",
    "bins = [0, 12, 24, 36, 48, telco_churn2['tenure'].max()]  # max() will get the largest tenure value\n",
    "labels = ['0-12 months', '12-24 months', '24-36 months', '36-48 months', '48+ months']\n",
    "\n",
    "# Create a new column for tenure groups\n",
    "telco_churn2['TenureGroup'] = pd.cut(telco_churn2['tenure'], bins=bins, labels=labels, right=False)\n",
    "\n",
    "# Group by tenure group and churn status (Yes/No)\n",
    "tenure_churn_group = telco_churn2.groupby(['TenureGroup', 'Churn']).size().unstack()\n",
    "\n",
    "# Plot stacked bar chart\n",
    "plt.figure(figsize=(8, 6))\n",
    "tenure_churn_group.plot(kind='bar', stacked=True, color=['purple', 'blue'])\n",
    "\n",
    "# Add labels and title\n",
    "plt.title('Customer Distribution by Tenure Group', fontsize=16)\n",
    "plt.xlabel('Tenure Group', fontsize=12)\n",
    "plt.ylabel('Number of Customers', fontsize=12)\n",
    "plt.xticks(rotation=45)\n",
    "plt.grid(axis='y', linestyle='--')\n",
    "\n",
    "# Add a legend for Churn (Yes/No)\n",
    "# Adjust legend position to avoid overlapping with the plot\n",
    "plt.legend(title='Churn', loc='upper left', bbox_to_anchor=(1.05, 1), borderaxespad=0)\n",
    "\n",
    "# Show the plot\n",
    "#plt.tight_layout()\n",
    "plt.show()"
   ]
  },
  {
   "cell_type": "code",
   "execution_count": 25,
   "metadata": {},
   "outputs": [
    {
     "name": "stderr",
     "output_type": "stream",
     "text": [
      "C:\\Users\\Inemesit Ido\\AppData\\Local\\Temp\\ipykernel_14816\\2466536233.py:1: FutureWarning: The default of observed=False is deprecated and will be changed to True in a future version of pandas. Pass observed=False to retain current behavior or observed=True to adopt the future default and silence this warning.\n",
      "  tenure_churn = telco_churn2.groupby('TenureGroup')['Churn'].value_counts().unstack(fill_value=0)\n"
     ]
    },
    {
     "data": {
      "text/html": [
       "<div>\n",
       "<style scoped>\n",
       "    .dataframe tbody tr th:only-of-type {\n",
       "        vertical-align: middle;\n",
       "    }\n",
       "\n",
       "    .dataframe tbody tr th {\n",
       "        vertical-align: top;\n",
       "    }\n",
       "\n",
       "    .dataframe thead th {\n",
       "        text-align: right;\n",
       "    }\n",
       "</style>\n",
       "<table border=\"1\" class=\"dataframe\">\n",
       "  <thead>\n",
       "    <tr style=\"text-align: right;\">\n",
       "      <th>Churn</th>\n",
       "      <th>No</th>\n",
       "      <th>Yes</th>\n",
       "    </tr>\n",
       "    <tr>\n",
       "      <th>TenureGroup</th>\n",
       "      <th></th>\n",
       "      <th></th>\n",
       "    </tr>\n",
       "  </thead>\n",
       "  <tbody>\n",
       "    <tr>\n",
       "      <th>0-12 months</th>\n",
       "      <td>1070</td>\n",
       "      <td>999</td>\n",
       "    </tr>\n",
       "    <tr>\n",
       "      <th>12-24 months</th>\n",
       "      <td>738</td>\n",
       "      <td>309</td>\n",
       "    </tr>\n",
       "    <tr>\n",
       "      <th>24-36 months</th>\n",
       "      <td>683</td>\n",
       "      <td>193</td>\n",
       "    </tr>\n",
       "    <tr>\n",
       "      <th>36-48 months</th>\n",
       "      <td>602</td>\n",
       "      <td>146</td>\n",
       "    </tr>\n",
       "    <tr>\n",
       "      <th>48+ months</th>\n",
       "      <td>1725</td>\n",
       "      <td>216</td>\n",
       "    </tr>\n",
       "  </tbody>\n",
       "</table>\n",
       "</div>"
      ],
      "text/plain": [
       "Churn           No  Yes\n",
       "TenureGroup            \n",
       "0-12 months   1070  999\n",
       "12-24 months   738  309\n",
       "24-36 months   683  193\n",
       "36-48 months   602  146\n",
       "48+ months    1725  216"
      ]
     },
     "execution_count": 25,
     "metadata": {},
     "output_type": "execute_result"
    }
   ],
   "source": [
    "tenure_churn = telco_churn2.groupby('TenureGroup')['Churn'].value_counts().unstack(fill_value=0)\n",
    "tenure_churn"
   ]
  },
  {
   "cell_type": "code",
   "execution_count": 26,
   "metadata": {},
   "outputs": [
    {
     "name": "stdout",
     "output_type": "stream",
     "text": [
      "TenureGroup\n",
      "0-12 months     48.284195\n",
      "12-24 months    29.512894\n",
      "24-36 months    22.031963\n",
      "36-48 months    19.518717\n",
      "48+ months      11.128284\n",
      "Name: Churn, dtype: float64\n"
     ]
    },
    {
     "name": "stderr",
     "output_type": "stream",
     "text": [
      "C:\\Users\\Inemesit Ido\\AppData\\Local\\Temp\\ipykernel_14816\\2653074709.py:2: FutureWarning: The default of observed=False is deprecated and will be changed to True in a future version of pandas. Pass observed=False to retain current behavior or observed=True to adopt the future default and silence this warning.\n",
      "  churn_rate_by_tenure = telco_churn2.groupby('TenureGroup')['Churn'].apply(lambda x: (x == 'Yes').mean() * 100)\n"
     ]
    }
   ],
   "source": [
    "# churn rates by tenure group\n",
    "churn_rate_by_tenure = telco_churn2.groupby('TenureGroup')['Churn'].apply(lambda x: (x == 'Yes').mean() * 100)\n",
    "print(churn_rate_by_tenure)"
   ]
  },
  {
   "cell_type": "code",
   "execution_count": 27,
   "metadata": {},
   "outputs": [
    {
     "name": "stderr",
     "output_type": "stream",
     "text": [
      "C:\\Users\\Inemesit Ido\\AppData\\Local\\Temp\\ipykernel_14816\\3121017483.py:2: FutureWarning: The default of observed=False is deprecated and will be changed to True in a future version of pandas. Pass observed=False to retain current behavior or observed=True to adopt the future default and silence this warning.\n",
      "  churn_counts = telco_churn2.groupby('TenureGroup')['Churn'].value_counts().unstack(fill_value=0)\n"
     ]
    },
    {
     "name": "stdout",
     "output_type": "stream",
     "text": [
      "TenureGroup\n",
      "0-12 months     48.28%\n",
      "12-24 months    29.51%\n",
      "24-36 months    22.03%\n",
      "36-48 months    19.52%\n",
      "48+ months      11.13%\n",
      "dtype: object\n"
     ]
    },
    {
     "data": {
      "image/png": "[encoded data removed]",
      "text/plain": [
       "<Figure size 800x600 with 1 Axes>"
      ]
     },
     "metadata": {},
     "output_type": "display_data"
    }
   ],
   "source": [
    "# Group by TenureGroup and aggregate churn counts\n",
    "churn_counts = telco_churn2.groupby('TenureGroup')['Churn'].value_counts().unstack(fill_value=0)\n",
    "\n",
    "# churn rate as a percentage\n",
    "churn_rate_by_tenure = (churn_counts['Yes'] / (churn_counts['Yes'] + churn_counts['No'])) * 100\n",
    "\n",
    "# Formating the churn rate with a percentage sign\n",
    "churn_rate_by_tenure_percent = churn_rate_by_tenure.apply(lambda x: f\"{x:.2f}%\")\n",
    "\n",
    "# Print the churn rate by tenure group with percentage signs\n",
    "print(churn_rate_by_tenure_percent)\n",
    "\n",
    "# Plot churn rate by tenure group\n",
    "plt.figure(figsize=(8,6))\n",
    "sns.barplot(x=churn_rate_by_tenure.index, y=churn_rate_by_tenure.values)\n",
    "plt.title('Churn Rate by Tenure Group')\n",
    "plt.ylabel('Churn Rate (%)')\n",
    "plt.xlabel('Tenure Group')\n",
    "plt.show()"
   ]
  },
  {
   "cell_type": "code",
   "execution_count": 28,
   "metadata": {},
   "outputs": [
    {
     "name": "stdout",
     "output_type": "stream",
     "text": [
      "TenureGroup   InternetService\n",
      "0-12 months   Fiber optic        0.425326\n",
      "              DSL                0.342678\n",
      "              No                 0.231996\n",
      "12-24 months  Fiber optic        0.435530\n",
      "              DSL                0.325692\n",
      "              No                 0.238777\n",
      "24-36 months  Fiber optic        0.453196\n",
      "              DSL                0.339041\n",
      "              No                 0.207763\n",
      "36-48 months  Fiber optic        0.435829\n",
      "              DSL                0.348930\n",
      "              No                 0.215241\n",
      "48+ months    Fiber optic        0.450283\n",
      "              DSL                0.350335\n",
      "              No                 0.199382\n",
      "Name: proportion, dtype: float64\n"
     ]
    },
    {
     "name": "stderr",
     "output_type": "stream",
     "text": [
      "C:\\Users\\Inemesit Ido\\AppData\\Local\\Temp\\ipykernel_14816\\322640321.py:2: FutureWarning: The default of observed=False is deprecated and will be changed to True in a future version of pandas. Pass observed=False to retain current behavior or observed=True to adopt the future default and silence this warning.\n",
      "  service_usage_by_tenure = telco_churn2.groupby('TenureGroup')['InternetService'].value_counts(normalize=True)\n"
     ]
    }
   ],
   "source": [
    "# service usage by tenure group (example: InternetService)\n",
    "service_usage_by_tenure = telco_churn2.groupby('TenureGroup')['InternetService'].value_counts(normalize=True)\n",
    "\n",
    "# Print the service usage by tenure group\n",
    "print(service_usage_by_tenure)"
   ]
  },
  {
   "cell_type": "code",
   "execution_count": 29,
   "metadata": {},
   "outputs": [
    {
     "name": "stdout",
     "output_type": "stream",
     "text": [
      "TenureGroup\n",
      "0-12 months     56.056017\n",
      "12-24 months    60.853295\n",
      "24-36 months    65.127854\n",
      "36-48 months    66.430615\n",
      "48+ months      72.369552\n",
      "Name: MonthlyCharges, dtype: float64\n",
      "TenureGroup\n",
      "0-12 months      264.940481\n",
      "12-24 months    1044.282378\n",
      "24-36 months    1913.745377\n",
      "36-48 months    2774.244519\n",
      "48+ months      4422.503117\n",
      "Name: TotalCharges, dtype: float64\n"
     ]
    },
    {
     "name": "stderr",
     "output_type": "stream",
     "text": [
      "C:\\Users\\Inemesit Ido\\AppData\\Local\\Temp\\ipykernel_14816\\3387027051.py:3: FutureWarning: The default of observed=False is deprecated and will be changed to True in a future version of pandas. Pass observed=False to retain current behavior or observed=True to adopt the future default and silence this warning.\n",
      "  avg_monthly_charges = telco_churn2.groupby('TenureGroup')['MonthlyCharges'].mean()\n",
      "C:\\Users\\Inemesit Ido\\AppData\\Local\\Temp\\ipykernel_14816\\3387027051.py:7: FutureWarning: The default of observed=False is deprecated and will be changed to True in a future version of pandas. Pass observed=False to retain current behavior or observed=True to adopt the future default and silence this warning.\n",
      "  avg_total_charges = telco_churn2.groupby('TenureGroup')['TotalCharges'].mean()\n"
     ]
    }
   ],
   "source": [
    "#Analysing the monthly charges in comparison to how it affects churn rate\n",
    "# average monthly charges by tenure group\n",
    "avg_monthly_charges = telco_churn2.groupby('TenureGroup')['MonthlyCharges'].mean()\n",
    "print(avg_monthly_charges)\n",
    "\n",
    "# total charges by tenure group\n",
    "avg_total_charges = telco_churn2.groupby('TenureGroup')['TotalCharges'].mean()\n",
    "print(avg_total_charges)\n"
   ]
  },
  {
   "cell_type": "markdown",
   "metadata": {},
   "source": [
    "## Contract-Based Segmentation:\n",
    "\n",
    "**Goal:**\n",
    "To segment customers based on the Contract column (e.g., month-to-month, one-year, two-year contracts) and see how their behavior differs."
   ]
  },
  {
   "cell_type": "code",
   "execution_count": 30,
   "metadata": {},
   "outputs": [
    {
     "data": {
      "text/plain": [
       "Contract\n",
       "Month-to-month    3875\n",
       "Two year          1695\n",
       "One year          1473\n",
       "Name: count, dtype: int64"
      ]
     },
     "execution_count": 30,
     "metadata": {},
     "output_type": "execute_result"
    }
   ],
   "source": [
    "telco_churn2['Contract']. value_counts()"
   ]
  },
  {
   "cell_type": "code",
   "execution_count": 31,
   "metadata": {},
   "outputs": [
    {
     "name": "stdout",
     "output_type": "stream",
     "text": [
      "Contract\n",
      "Month-to-month    42.709677\n",
      "One year          11.269518\n",
      "Two year           2.831858\n",
      "Name: Churn_Binary, dtype: float64\n"
     ]
    }
   ],
   "source": [
    "# Convert churn to binary\n",
    "telco_churn2['Churn_Binary'] = telco_churn2['Churn'].apply(lambda x: 1 if x == 'Yes' else 0)\n",
    "\n",
    "# Calculate churn rate by contract type\n",
    "churn_rate_by_contract = telco_churn2.groupby('Contract')['Churn_Binary'].mean() * 100\n",
    "\n",
    "# Print churn rate by contract type\n",
    "print(churn_rate_by_contract)"
   ]
  },
  {
   "cell_type": "code",
   "execution_count": 32,
   "metadata": {},
   "outputs": [
    {
     "name": "stdout",
     "output_type": "stream",
     "text": [
      "         Contract  Total_Customers  Churned_Customers  Churn_Rate\n",
      "0  Month-to-month             3875               1655   42.709677\n",
      "1        One year             1473                166   11.269518\n",
      "2        Two year             1695                 48    2.831858\n"
     ]
    }
   ],
   "source": [
    "# A column created to indicate if a customer has churned\n",
    "telco_churn2['Churn_Binary'] = telco_churn['Churn'].apply(lambda x: 1 if x == 'Yes' else 0)\n",
    "\n",
    "# Group by contract type\n",
    "churn_by_contract = telco_churn2.groupby('Contract').agg(\n",
    "    Total_Customers=('Churn_Binary', 'count'),         # Count total customers per contract type\n",
    "    Churned_Customers=('Churn_Binary', 'sum')          # Count churned customers per contract type\n",
    ")\n",
    "\n",
    "# Churn rate as a percentage\n",
    "churn_by_contract['Churn_Rate'] = (churn_by_contract['Churned_Customers'] / churn_by_contract['Total_Customers']) * 100\n",
    "\n",
    "# Index reset for better readability\n",
    "churn_by_contract.reset_index(inplace=True)\n",
    "\n",
    "# Print the results\n",
    "print(churn_by_contract[['Contract', 'Total_Customers', 'Churned_Customers', 'Churn_Rate']])\n"
   ]
  },
  {
   "cell_type": "code",
   "execution_count": 33,
   "metadata": {},
   "outputs": [
    {
     "data": {
      "image/png": "[encoded data removed]",
      "text/plain": [
       "<Figure size 800x500 with 1 Axes>"
      ]
     },
     "metadata": {},
     "output_type": "display_data"
    }
   ],
   "source": [
    "# Plot churn rates by contract type\n",
    "plt.figure(figsize=(8, 5))\n",
    "churn_rate_by_contract.plot(kind='bar', color='skyblue')\n",
    "plt.title('Churn Rate by Contract Type', fontsize=16)\n",
    "plt.xlabel('Contract Type', fontsize=12)\n",
    "plt.ylabel('Churn Rate (%)', fontsize=12)\n",
    "plt.xticks(rotation=45)\n",
    "plt.grid(axis='y', linestyle='--')\n",
    "plt.show()\n"
   ]
  },
  {
   "cell_type": "code",
   "execution_count": 34,
   "metadata": {},
   "outputs": [
    {
     "name": "stdout",
     "output_type": "stream",
     "text": [
      "<class 'pandas.core.frame.DataFrame'>\n",
      "RangeIndex: 7043 entries, 0 to 7042\n",
      "Data columns (total 23 columns):\n",
      " #   Column            Non-Null Count  Dtype   \n",
      "---  ------            --------------  -----   \n",
      " 0   customerID        7043 non-null   object  \n",
      " 1   gender            7043 non-null   object  \n",
      " 2   SeniorCitizen     7043 non-null   int64   \n",
      " 3   Partner           7043 non-null   object  \n",
      " 4   Dependents        7043 non-null   object  \n",
      " 5   tenure            7043 non-null   int64   \n",
      " 6   PhoneService      7043 non-null   object  \n",
      " 7   MultipleLines     7043 non-null   object  \n",
      " 8   InternetService   7043 non-null   object  \n",
      " 9   OnlineSecurity    7043 non-null   object  \n",
      " 10  OnlineBackup      7043 non-null   object  \n",
      " 11  DeviceProtection  7043 non-null   object  \n",
      " 12  TechSupport       7043 non-null   object  \n",
      " 13  StreamingTV       7043 non-null   object  \n",
      " 14  StreamingMovies   7043 non-null   object  \n",
      " 15  Contract          7043 non-null   object  \n",
      " 16  PaperlessBilling  7043 non-null   object  \n",
      " 17  PaymentMethod     7043 non-null   object  \n",
      " 18  MonthlyCharges    7043 non-null   float64 \n",
      " 19  TotalCharges      7043 non-null   float64 \n",
      " 20  Churn             7043 non-null   object  \n",
      " 21  TenureGroup       6681 non-null   category\n",
      " 22  Churn_Binary      7043 non-null   int64   \n",
      "dtypes: category(1), float64(2), int64(3), object(17)\n",
      "memory usage: 1.2+ MB\n",
      "      customerID  gender  SeniorCitizen Partner Dependents  tenure  \\\n",
      "0     7590-VHVEG  Female              0     Yes         No       1   \n",
      "1     5575-GNVDE    Male              0      No         No      34   \n",
      "2     3668-QPYBK    Male              0      No         No       2   \n",
      "3     7795-CFOCW    Male              0      No         No      45   \n",
      "4     9237-HQITU  Female              0      No         No       2   \n",
      "...          ...     ...            ...     ...        ...     ...   \n",
      "7038  6840-RESVB    Male              0     Yes        Yes      24   \n",
      "7039  2234-XADUH  Female              0     Yes        Yes      72   \n",
      "7040  4801-JZAZL  Female              0     Yes        Yes      11   \n",
      "7041  8361-LTMKD    Male              1     Yes         No       4   \n",
      "7042  3186-AJIEK    Male              0      No         No      66   \n",
      "\n",
      "     PhoneService     MultipleLines InternetService OnlineSecurity  ...  \\\n",
      "0              No  No phone service             DSL             No  ...   \n",
      "1             Yes                No             DSL            Yes  ...   \n",
      "2             Yes                No             DSL            Yes  ...   \n",
      "3              No  No phone service             DSL            Yes  ...   \n",
      "4             Yes                No     Fiber optic             No  ...   \n",
      "...           ...               ...             ...            ...  ...   \n",
      "7038          Yes               Yes             DSL            Yes  ...   \n",
      "7039          Yes               Yes     Fiber optic             No  ...   \n",
      "7040           No  No phone service             DSL            Yes  ...   \n",
      "7041          Yes               Yes     Fiber optic             No  ...   \n",
      "7042          Yes                No     Fiber optic            Yes  ...   \n",
      "\n",
      "     StreamingTV StreamingMovies        Contract PaperlessBilling  \\\n",
      "0             No              No  Month-to-month              Yes   \n",
      "1             No              No        One year               No   \n",
      "2             No              No  Month-to-month              Yes   \n",
      "3             No              No        One year               No   \n",
      "4             No              No  Month-to-month              Yes   \n",
      "...          ...             ...             ...              ...   \n",
      "7038         Yes             Yes        One year              Yes   \n",
      "7039         Yes             Yes        One year              Yes   \n",
      "7040          No              No  Month-to-month              Yes   \n",
      "7041          No              No  Month-to-month              Yes   \n",
      "7042         Yes             Yes        Two year              Yes   \n",
      "\n",
      "                  PaymentMethod MonthlyCharges TotalCharges Churn  \\\n",
      "0              Electronic check          29.85        29.85    No   \n",
      "1                  Mailed check          56.95      1889.50    No   \n",
      "2                  Mailed check          53.85       108.15   Yes   \n",
      "3     Bank transfer (automatic)          42.30      1840.75    No   \n",
      "4              Electronic check          70.70       151.65   Yes   \n",
      "...                         ...            ...          ...   ...   \n",
      "7038               Mailed check          84.80      1990.50    No   \n",
      "7039    Credit card (automatic)         103.20      7362.90    No   \n",
      "7040           Electronic check          29.60       346.45    No   \n",
      "7041               Mailed check          74.40       306.60   Yes   \n",
      "7042  Bank transfer (automatic)         105.65      6844.50    No   \n",
      "\n",
      "       TenureGroup  Churn_Binary  \n",
      "0      0-12 months             0  \n",
      "1     24-36 months             0  \n",
      "2      0-12 months             1  \n",
      "3     36-48 months             0  \n",
      "4      0-12 months             1  \n",
      "...            ...           ...  \n",
      "7038  24-36 months             0  \n",
      "7039           NaN             0  \n",
      "7040   0-12 months             0  \n",
      "7041   0-12 months             1  \n",
      "7042    48+ months             0  \n",
      "\n",
      "[7043 rows x 23 columns]\n"
     ]
    }
   ],
   "source": [
    "telco_churn2.info()\n",
    "print(telco_churn2)"
   ]
  },
  {
   "cell_type": "markdown",
   "metadata": {},
   "source": [
    " # Service Usage Analysis"
   ]
  },
  {
   "cell_type": "code",
   "execution_count": 35,
   "metadata": {},
   "outputs": [
    {
     "name": "stdout",
     "output_type": "stream",
     "text": [
      "Services provided by:\n",
      "MultipleLines\n",
      "No                  48.132898\n",
      "Yes                 42.183729\n",
      "No phone service     9.683374\n",
      "Name: proportion, dtype: float64\n",
      "\n",
      "\n"
     ]
    },
    {
     "data": {
      "image/png": "[encoded data removed]",
      "text/plain": [
       "<Figure size 600x400 with 1 Axes>"
      ]
     },
     "metadata": {},
     "output_type": "display_data"
    },
    {
     "name": "stdout",
     "output_type": "stream",
     "text": [
      "Services provided by:\n",
      "InternetService\n",
      "Fiber optic    43.958540\n",
      "DSL            34.374556\n",
      "No             21.666903\n",
      "Name: proportion, dtype: float64\n",
      "\n",
      "\n"
     ]
    },
    {
     "data": {
      "image/png": "[encoded data removed]",
      "text/plain": [
       "<Figure size 600x400 with 1 Axes>"
      ]
     },
     "metadata": {},
     "output_type": "display_data"
    },
    {
     "name": "stdout",
     "output_type": "stream",
     "text": [
      "Services provided by:\n",
      "OnlineSecurity\n",
      "No                     49.666335\n",
      "Yes                    28.666761\n",
      "No internet service    21.666903\n",
      "Name: proportion, dtype: float64\n",
      "\n",
      "\n"
     ]
    },
    {
     "data": {
      "image/png": "[encoded data removed]",
      "text/plain": [
       "<Figure size 600x400 with 1 Axes>"
      ]
     },
     "metadata": {},
     "output_type": "display_data"
    },
    {
     "name": "stdout",
     "output_type": "stream",
     "text": [
      "Services provided by:\n",
      "OnlineBackup\n",
      "No                     43.844952\n",
      "Yes                    34.488144\n",
      "No internet service    21.666903\n",
      "Name: proportion, dtype: float64\n",
      "\n",
      "\n"
     ]
    },
    {
     "data": {
      "image/png": "[encoded data removed]",
      "text/plain": [
       "<Figure size 600x400 with 1 Axes>"
      ]
     },
     "metadata": {},
     "output_type": "display_data"
    },
    {
     "name": "stdout",
     "output_type": "stream",
     "text": [
      "Services provided by:\n",
      "DeviceProtection\n",
      "No                     43.944342\n",
      "Yes                    34.388755\n",
      "No internet service    21.666903\n",
      "Name: proportion, dtype: float64\n",
      "\n",
      "\n"
     ]
    },
    {
     "data": {
      "image/png": "[encoded data removed]",
      "text/plain": [
       "<Figure size 600x400 with 1 Axes>"
      ]
     },
     "metadata": {},
     "output_type": "display_data"
    },
    {
     "name": "stdout",
     "output_type": "stream",
     "text": [
      "Services provided by:\n",
      "TechSupport\n",
      "No                     49.311373\n",
      "Yes                    29.021724\n",
      "No internet service    21.666903\n",
      "Name: proportion, dtype: float64\n",
      "\n",
      "\n"
     ]
    },
    {
     "data": {
      "image/png": "[encoded data removed]",
      "text/plain": [
       "<Figure size 600x400 with 1 Axes>"
      ]
     },
     "metadata": {},
     "output_type": "display_data"
    },
    {
     "name": "stdout",
     "output_type": "stream",
     "text": [
      "Services provided by:\n",
      "StreamingTV\n",
      "No                     39.897771\n",
      "Yes                    38.435326\n",
      "No internet service    21.666903\n",
      "Name: proportion, dtype: float64\n",
      "\n",
      "\n"
     ]
    },
    {
     "data": {
      "image/png": "[encoded data removed]",
      "text/plain": [
       "<Figure size 600x400 with 1 Axes>"
      ]
     },
     "metadata": {},
     "output_type": "display_data"
    },
    {
     "name": "stdout",
     "output_type": "stream",
     "text": [
      "Services provided by:\n",
      "StreamingMovies\n",
      "No                     39.542808\n",
      "Yes                    38.790288\n",
      "No internet service    21.666903\n",
      "Name: proportion, dtype: float64\n",
      "\n",
      "\n"
     ]
    },
    {
     "data": {
      "image/png": "[encoded data removed]",
      "text/plain": [
       "<Figure size 600x400 with 1 Axes>"
      ]
     },
     "metadata": {},
     "output_type": "display_data"
    }
   ],
   "source": [
    "# List of all services provided\n",
    "services= ['MultipleLines', 'InternetService', 'OnlineSecurity','OnlineBackup', 'DeviceProtection','TechSupport', 'StreamingTV','StreamingMovies']\n",
    "\n",
    "for service in services:\n",
    "    plt.figure(figsize=(6, 4))\n",
    "    subscriptions= telco_churn[service].value_counts(normalize= True) * 100\n",
    "    print(f'Services provided by:')\n",
    "    print(subscriptions)\n",
    "    print('\\n')\n",
    "\n",
    "    subscriptions.plot(kind= 'bar', color= ['blue', 'purple'])\n",
    "    plt.title(f'Services by provided by {service}')\n",
    "    plt.xlabel('Subscription Status')\n",
    "    plt.ylabel('Percentage of Customers')\n",
    "    plt.xticks(rotation= 0)\n",
    "    plt.grid(axis= 'y', linestyle= '--')\n",
    "    plt.show()\n",
    "    "
   ]
  },
  {
   "cell_type": "markdown",
   "metadata": {},
   "source": [
    "## Bundling Services:\n",
    "Goal: Analyze which customers subscribe to multiple services and how that affects churn.\n",
    "Example: You can create a combination of services and analyze if customers who have both phone and internet services churn less than those with only one service."
   ]
  },
  {
   "cell_type": "code",
   "execution_count": 36,
   "metadata": {},
   "outputs": [
    {
     "name": "stdout",
     "output_type": "stream",
     "text": [
      "Churn Rate for Internet + StreamingTV + StreamingMovies Bundle: 29.43%\n"
     ]
    }
   ],
   "source": [
    "# Example: Internet + Streaming (TV + Movies) bundle\n",
    "bundle_filter = (telco_churn['InternetService'] != 'No') & (telco_churn['StreamingTV'] == 'Yes') & (telco_churn['StreamingMovies'] == 'Yes')\n",
    "\n",
    "# Calculate churn rate for this specific bundle\n",
    "bundle_churn_rate = telco_churn[bundle_filter]['Churn'].eq('Yes').mean() * 100\n",
    "print(f\"Churn Rate for Internet + StreamingTV + StreamingMovies Bundle: {bundle_churn_rate:.2f}%\")\n"
   ]
  },
  {
   "cell_type": "markdown",
   "metadata": {},
   "source": [
    "# Payment Analysis\n",
    "## Revenue Distribution"
   ]
  },
  {
   "cell_type": "code",
   "execution_count": 37,
   "metadata": {},
   "outputs": [
    {
     "name": "stdout",
     "output_type": "stream",
     "text": [
      "The average monthly charges is 64.76169246059918\n"
     ]
    },
    {
     "data": {
      "text/plain": [
       "<Axes: title={'center': 'Distribution of monthly charges'}, xlabel='average monthly charges', ylabel='Frequency'>"
      ]
     },
     "execution_count": 37,
     "metadata": {},
     "output_type": "execute_result"
    },
    {
     "data": {
      "image/png": "[encoded data removed]",
      "text/plain": [
       "<Figure size 1800x800 with 1 Axes>"
      ]
     },
     "metadata": {},
     "output_type": "display_data"
    }
   ],
   "source": [
    "#Calculating average charges per customer\n",
    "ave_monthly_charges= telco_churn['MonthlyCharges'].mean()\n",
    "print(f\"The average monthly charges is {ave_monthly_charges}\")\n",
    "\n",
    "# Visualisation of the Distribution of monthly charges\n",
    "plt.figure(figsize=(18,8))\n",
    "plt.xlabel(\"average monthly charges\")\n",
    "plt.ylabel(\"Frequency\")\n",
    "plt.title(\"Distribution of monthly charges\")\n",
    "sns.histplot(x= telco_churn['MonthlyCharges'], kde= True, color= \"purple\")\n"
   ]
  },
  {
   "cell_type": "code",
   "execution_count": 38,
   "metadata": {},
   "outputs": [
    {
     "name": "stdout",
     "output_type": "stream",
     "text": [
      "The average total charges is 2283.3004408418656\n"
     ]
    },
    {
     "data": {
      "text/plain": [
       "<Axes: title={'center': 'Distribution of Total charges'}, xlabel='average total charges', ylabel='Frequency'>"
      ]
     },
     "execution_count": 38,
     "metadata": {},
     "output_type": "execute_result"
    },
    {
     "data": {
      "image/png": "[encoded data removed]",
      "text/plain": [
       "<Figure size 1200x600 with 1 Axes>"
      ]
     },
     "metadata": {},
     "output_type": "display_data"
    }
   ],
   "source": [
    "#Calculating average charges per customer\n",
    "ave_total_charges= telco_churn['TotalCharges'].mean()\n",
    "print(f\"The average total charges is {ave_total_charges}\")\n",
    "\n",
    "# Visualisation of the Distribution of monthly charges\n",
    "plt.figure(figsize= (12,6))\n",
    "plt.xlabel(\"average total charges\")\n",
    "plt.ylabel(\"Frequency\")\n",
    "plt.title(\"Distribution of Total charges\")\n",
    "sns.histplot(x= telco_churn['TotalCharges'], kde= True, color= \"purple\")\n"
   ]
  },
  {
   "cell_type": "markdown",
   "metadata": {},
   "source": [
    "# Churn rates based on Payment methods"
   ]
  },
  {
   "cell_type": "code",
   "execution_count": 39,
   "metadata": {},
   "outputs": [
    {
     "name": "stdout",
     "output_type": "stream",
     "text": [
      "                           Not Churned  Churned  Total  Churn rate\n",
      "PaymentMethod                                                     \n",
      "Bank transfer (automatic)         1286      258   1544   16.709845\n",
      "Credit card (automatic)           1290      232   1522   15.243101\n",
      "Electronic check                  1294     1071   2365   45.285412\n",
      "Mailed check                      1304      308   1612   19.106700\n"
     ]
    }
   ],
   "source": [
    "# Group by PaymentMethod and Churn, then count the occurrences\n",
    "payment_method_grouped = telco_churn.groupby(['PaymentMethod', 'Churn']).size().unstack(fill_value=0)\n",
    "\n",
    "# Columns\n",
    "payment_method_grouped.columns = ['Not Churned', 'Churned']\n",
    "\n",
    "# Add a Total column (sum of churned and non-churned customers)\n",
    "payment_method_grouped['Total'] = payment_method_grouped['Not Churned'] + payment_method_grouped['Churned']\n",
    "\n",
    "payment_method_grouped['Churn rate']= (payment_method_grouped['Churned'] / payment_method_grouped ['Total']) * 100\n",
    "\n",
    "# Display the result\n",
    "print(payment_method_grouped)"
   ]
  },
  {
   "cell_type": "code",
   "execution_count": 40,
   "metadata": {},
   "outputs": [
    {
     "data": {
      "text/html": [
       "<div>\n",
       "<style scoped>\n",
       "    .dataframe tbody tr th:only-of-type {\n",
       "        vertical-align: middle;\n",
       "    }\n",
       "\n",
       "    .dataframe tbody tr th {\n",
       "        vertical-align: top;\n",
       "    }\n",
       "\n",
       "    .dataframe thead th {\n",
       "        text-align: right;\n",
       "    }\n",
       "</style>\n",
       "<table border=\"1\" class=\"dataframe\">\n",
       "  <thead>\n",
       "    <tr style=\"text-align: right;\">\n",
       "      <th></th>\n",
       "      <th>customerID</th>\n",
       "      <th>gender</th>\n",
       "      <th>SeniorCitizen</th>\n",
       "      <th>Partner</th>\n",
       "      <th>Dependents</th>\n",
       "      <th>tenure</th>\n",
       "      <th>PhoneService</th>\n",
       "      <th>MultipleLines</th>\n",
       "      <th>InternetService</th>\n",
       "      <th>OnlineSecurity</th>\n",
       "      <th>...</th>\n",
       "      <th>DeviceProtection</th>\n",
       "      <th>TechSupport</th>\n",
       "      <th>StreamingTV</th>\n",
       "      <th>StreamingMovies</th>\n",
       "      <th>Contract</th>\n",
       "      <th>PaperlessBilling</th>\n",
       "      <th>PaymentMethod</th>\n",
       "      <th>MonthlyCharges</th>\n",
       "      <th>TotalCharges</th>\n",
       "      <th>Churn</th>\n",
       "    </tr>\n",
       "  </thead>\n",
       "  <tbody>\n",
       "    <tr>\n",
       "      <th>0</th>\n",
       "      <td>7590-VHVEG</td>\n",
       "      <td>Female</td>\n",
       "      <td>0</td>\n",
       "      <td>Yes</td>\n",
       "      <td>No</td>\n",
       "      <td>1</td>\n",
       "      <td>No</td>\n",
       "      <td>No phone service</td>\n",
       "      <td>DSL</td>\n",
       "      <td>No</td>\n",
       "      <td>...</td>\n",
       "      <td>No</td>\n",
       "      <td>No</td>\n",
       "      <td>No</td>\n",
       "      <td>No</td>\n",
       "      <td>Month-to-month</td>\n",
       "      <td>Yes</td>\n",
       "      <td>Electronic check</td>\n",
       "      <td>29.85</td>\n",
       "      <td>29.85</td>\n",
       "      <td>No</td>\n",
       "    </tr>\n",
       "    <tr>\n",
       "      <th>1</th>\n",
       "      <td>5575-GNVDE</td>\n",
       "      <td>Male</td>\n",
       "      <td>0</td>\n",
       "      <td>No</td>\n",
       "      <td>No</td>\n",
       "      <td>34</td>\n",
       "      <td>Yes</td>\n",
       "      <td>No</td>\n",
       "      <td>DSL</td>\n",
       "      <td>Yes</td>\n",
       "      <td>...</td>\n",
       "      <td>Yes</td>\n",
       "      <td>No</td>\n",
       "      <td>No</td>\n",
       "      <td>No</td>\n",
       "      <td>One year</td>\n",
       "      <td>No</td>\n",
       "      <td>Mailed check</td>\n",
       "      <td>56.95</td>\n",
       "      <td>1889.50</td>\n",
       "      <td>No</td>\n",
       "    </tr>\n",
       "    <tr>\n",
       "      <th>2</th>\n",
       "      <td>3668-QPYBK</td>\n",
       "      <td>Male</td>\n",
       "      <td>0</td>\n",
       "      <td>No</td>\n",
       "      <td>No</td>\n",
       "      <td>2</td>\n",
       "      <td>Yes</td>\n",
       "      <td>No</td>\n",
       "      <td>DSL</td>\n",
       "      <td>Yes</td>\n",
       "      <td>...</td>\n",
       "      <td>No</td>\n",
       "      <td>No</td>\n",
       "      <td>No</td>\n",
       "      <td>No</td>\n",
       "      <td>Month-to-month</td>\n",
       "      <td>Yes</td>\n",
       "      <td>Mailed check</td>\n",
       "      <td>53.85</td>\n",
       "      <td>108.15</td>\n",
       "      <td>Yes</td>\n",
       "    </tr>\n",
       "    <tr>\n",
       "      <th>3</th>\n",
       "      <td>7795-CFOCW</td>\n",
       "      <td>Male</td>\n",
       "      <td>0</td>\n",
       "      <td>No</td>\n",
       "      <td>No</td>\n",
       "      <td>45</td>\n",
       "      <td>No</td>\n",
       "      <td>No phone service</td>\n",
       "      <td>DSL</td>\n",
       "      <td>Yes</td>\n",
       "      <td>...</td>\n",
       "      <td>Yes</td>\n",
       "      <td>Yes</td>\n",
       "      <td>No</td>\n",
       "      <td>No</td>\n",
       "      <td>One year</td>\n",
       "      <td>No</td>\n",
       "      <td>Bank transfer (automatic)</td>\n",
       "      <td>42.30</td>\n",
       "      <td>1840.75</td>\n",
       "      <td>No</td>\n",
       "    </tr>\n",
       "    <tr>\n",
       "      <th>4</th>\n",
       "      <td>9237-HQITU</td>\n",
       "      <td>Female</td>\n",
       "      <td>0</td>\n",
       "      <td>No</td>\n",
       "      <td>No</td>\n",
       "      <td>2</td>\n",
       "      <td>Yes</td>\n",
       "      <td>No</td>\n",
       "      <td>Fiber optic</td>\n",
       "      <td>No</td>\n",
       "      <td>...</td>\n",
       "      <td>No</td>\n",
       "      <td>No</td>\n",
       "      <td>No</td>\n",
       "      <td>No</td>\n",
       "      <td>Month-to-month</td>\n",
       "      <td>Yes</td>\n",
       "      <td>Electronic check</td>\n",
       "      <td>70.70</td>\n",
       "      <td>151.65</td>\n",
       "      <td>Yes</td>\n",
       "    </tr>\n",
       "  </tbody>\n",
       "</table>\n",
       "<p>5 rows × 21 columns</p>\n",
       "</div>"
      ],
      "text/plain": [
       "   customerID  gender  SeniorCitizen Partner Dependents  tenure PhoneService  \\\n",
       "0  7590-VHVEG  Female              0     Yes         No       1           No   \n",
       "1  5575-GNVDE    Male              0      No         No      34          Yes   \n",
       "2  3668-QPYBK    Male              0      No         No       2          Yes   \n",
       "3  7795-CFOCW    Male              0      No         No      45           No   \n",
       "4  9237-HQITU  Female              0      No         No       2          Yes   \n",
       "\n",
       "      MultipleLines InternetService OnlineSecurity  ... DeviceProtection  \\\n",
       "0  No phone service             DSL             No  ...               No   \n",
       "1                No             DSL            Yes  ...              Yes   \n",
       "2                No             DSL            Yes  ...               No   \n",
       "3  No phone service             DSL            Yes  ...              Yes   \n",
       "4                No     Fiber optic             No  ...               No   \n",
       "\n",
       "  TechSupport StreamingTV StreamingMovies        Contract PaperlessBilling  \\\n",
       "0          No          No              No  Month-to-month              Yes   \n",
       "1          No          No              No        One year               No   \n",
       "2          No          No              No  Month-to-month              Yes   \n",
       "3         Yes          No              No        One year               No   \n",
       "4          No          No              No  Month-to-month              Yes   \n",
       "\n",
       "               PaymentMethod MonthlyCharges  TotalCharges  Churn  \n",
       "0           Electronic check          29.85         29.85     No  \n",
       "1               Mailed check          56.95       1889.50     No  \n",
       "2               Mailed check          53.85        108.15    Yes  \n",
       "3  Bank transfer (automatic)          42.30       1840.75     No  \n",
       "4           Electronic check          70.70        151.65    Yes  \n",
       "\n",
       "[5 rows x 21 columns]"
      ]
     },
     "execution_count": 40,
     "metadata": {},
     "output_type": "execute_result"
    }
   ],
   "source": [
    "telco_churn.head()"
   ]
  },
  {
   "cell_type": "code",
   "execution_count": 41,
   "metadata": {},
   "outputs": [
    {
     "name": "stdout",
     "output_type": "stream",
     "text": [
      "<class 'pandas.core.frame.DataFrame'>\n",
      "RangeIndex: 7043 entries, 0 to 7042\n",
      "Data columns (total 21 columns):\n",
      " #   Column            Non-Null Count  Dtype  \n",
      "---  ------            --------------  -----  \n",
      " 0   customerID        7043 non-null   object \n",
      " 1   gender            7043 non-null   object \n",
      " 2   SeniorCitizen     7043 non-null   int64  \n",
      " 3   Partner           7043 non-null   object \n",
      " 4   Dependents        7043 non-null   object \n",
      " 5   tenure            7043 non-null   int64  \n",
      " 6   PhoneService      7043 non-null   object \n",
      " 7   MultipleLines     7043 non-null   object \n",
      " 8   InternetService   7043 non-null   object \n",
      " 9   OnlineSecurity    7043 non-null   object \n",
      " 10  OnlineBackup      7043 non-null   object \n",
      " 11  DeviceProtection  7043 non-null   object \n",
      " 12  TechSupport       7043 non-null   object \n",
      " 13  StreamingTV       7043 non-null   object \n",
      " 14  StreamingMovies   7043 non-null   object \n",
      " 15  Contract          7043 non-null   object \n",
      " 16  PaperlessBilling  7043 non-null   object \n",
      " 17  PaymentMethod     7043 non-null   object \n",
      " 18  MonthlyCharges    7043 non-null   float64\n",
      " 19  TotalCharges      7043 non-null   float64\n",
      " 20  Churn             7043 non-null   object \n",
      "dtypes: float64(2), int64(2), object(17)\n",
      "memory usage: 1.1+ MB\n"
     ]
    }
   ],
   "source": [
    "telco_churn.info()"
   ]
  },
  {
   "cell_type": "markdown",
   "metadata": {},
   "source": [
    "# Correlation analysis "
   ]
  },
  {
   "cell_type": "code",
   "execution_count": 42,
   "metadata": {},
   "outputs": [
    {
     "name": "stdout",
     "output_type": "stream",
     "text": [
      "                  tenure  MonthlyCharges  TotalCharges  SeniorCitizen\n",
      "tenure          1.000000        0.247900      0.824757       0.016567\n",
      "MonthlyCharges  0.247900        1.000000      0.650468       0.220173\n",
      "TotalCharges    0.824757        0.650468      1.000000       0.102395\n",
      "SeniorCitizen   0.016567        0.220173      0.102395       1.000000\n"
     ]
    }
   ],
   "source": [
    "correlation_matrix = telco_churn[['tenure', 'MonthlyCharges', 'TotalCharges','SeniorCitizen']].corr()\n",
    "\n",
    "# Display the correlation matrix\n",
    "print(correlation_matrix)"
   ]
  },
  {
   "cell_type": "code",
   "execution_count": 43,
   "metadata": {},
   "outputs": [
    {
     "name": "stdout",
     "output_type": "stream",
     "text": [
      "tenure           -0.352229\n",
      "MonthlyCharges    0.193356\n",
      "TotalCharges     -0.199428\n",
      "Churn_Binary      1.000000\n",
      "SeniorCitizen     0.150889\n",
      "Name: Churn_Binary, dtype: float64\n"
     ]
    }
   ],
   "source": [
    "# Correlation between churn and numerical features\n",
    "churn_corr = telco_churn2[['tenure', 'MonthlyCharges', 'TotalCharges', 'Churn_Binary', 'SeniorCitizen']].corr()\n",
    "\n",
    "# Display the correlation matrix for churn\n",
    "print(churn_corr['Churn_Binary'])\n"
   ]
  },
  {
   "cell_type": "markdown",
   "metadata": {},
   "source": [
    "# Customer Lifetime Value Estimation (CLV)"
   ]
  },
  {
   "cell_type": "code",
   "execution_count": 44,
   "metadata": {},
   "outputs": [
    {
     "name": "stdout",
     "output_type": "stream",
     "text": [
      "The average monthly charge for Bank transfer (automatic) is 67.19\n",
      "The average monthly charge for Credit card (automatic) is 66.51\n",
      "The average monthly charge for Electronic check is 76.26\n",
      "The average monthly charge for Mailed check is 43.92\n"
     ]
    }
   ],
   "source": [
    "average_monthly_charges= telco_churn.groupby(\"PaymentMethod\")[\"MonthlyCharges\"].mean()\n",
    "average_monthly_charges_dict= average_monthly_charges.to_dict()\n",
    "for method, pay in average_monthly_charges_dict.items():\n",
    "    print(f'The average monthly charge for {method} is {pay:.2f}')"
   ]
  },
  {
   "cell_type": "code",
   "execution_count": 45,
   "metadata": {},
   "outputs": [
    {
     "name": "stdout",
     "output_type": "stream",
     "text": [
      "CLV for Bank transfer (automatic): $402.11\n",
      "CLV for Credit card (automatic): $436.34\n",
      "CLV for Electronic check: $168.39\n",
      "CLV for Mailed check: $229.85\n"
     ]
    }
   ],
   "source": [
    "#  calculation of CLV\n",
    "def calculate_clv(monthly_charges, churn_rate):\n",
    "    avg_lifetime = 1 / churn_rate\n",
    "    clv = monthly_charges * avg_lifetime\n",
    "    return clv\n",
    "\n",
    "# churn rates for different customer groups\n",
    "churn_rates = (payment_method_grouped['Churned'] / payment_method_grouped ['Total']) \n",
    "\n",
    "# average monthly charges for each payment method\n",
    "average_monthly_charges = telco_churn.groupby(\"PaymentMethod\")[\"MonthlyCharges\"].mean()\n",
    "\n",
    "# Calculation of  CLV for each group\n",
    "for payment_method, churn_rate in churn_rates.items():\n",
    "    clv = calculate_clv(average_monthly_charges[payment_method], churn_rate)\n",
    "    print(f'CLV for {payment_method}: ${clv:.2f}')\n"
   ]
  },
  {
   "cell_type": "markdown",
   "metadata": {},
   "source": [
    "# Predictive anlaysis"
   ]
  },
  {
   "cell_type": "code",
   "execution_count": 46,
   "metadata": {},
   "outputs": [],
   "source": [
    "from sklearn.linear_model import LogisticRegression\n",
    "from sklearn.model_selection import train_test_split\n",
    "from sklearn.preprocessing import LabelEncoder\n",
    "from sklearn.preprocessing import StandardScaler"
   ]
  },
  {
   "cell_type": "code",
   "execution_count": 47,
   "metadata": {},
   "outputs": [
    {
     "name": "stdout",
     "output_type": "stream",
     "text": [
      "<class 'pandas.core.frame.DataFrame'>\n",
      "RangeIndex: 7043 entries, 0 to 7042\n",
      "Data columns (total 21 columns):\n",
      " #   Column            Non-Null Count  Dtype  \n",
      "---  ------            --------------  -----  \n",
      " 0   customerID        7043 non-null   object \n",
      " 1   gender            7043 non-null   object \n",
      " 2   SeniorCitizen     7043 non-null   int64  \n",
      " 3   Partner           7043 non-null   object \n",
      " 4   Dependents        7043 non-null   object \n",
      " 5   tenure            7043 non-null   int64  \n",
      " 6   PhoneService      7043 non-null   object \n",
      " 7   MultipleLines     7043 non-null   object \n",
      " 8   InternetService   7043 non-null   object \n",
      " 9   OnlineSecurity    7043 non-null   object \n",
      " 10  OnlineBackup      7043 non-null   object \n",
      " 11  DeviceProtection  7043 non-null   object \n",
      " 12  TechSupport       7043 non-null   object \n",
      " 13  StreamingTV       7043 non-null   object \n",
      " 14  StreamingMovies   7043 non-null   object \n",
      " 15  Contract          7043 non-null   object \n",
      " 16  PaperlessBilling  7043 non-null   object \n",
      " 17  PaymentMethod     7043 non-null   object \n",
      " 18  MonthlyCharges    7043 non-null   float64\n",
      " 19  TotalCharges      7043 non-null   float64\n",
      " 20  Churn             7043 non-null   object \n",
      "dtypes: float64(2), int64(2), object(17)\n",
      "memory usage: 1.1+ MB\n"
     ]
    }
   ],
   "source": [
    "telco_churn.info()"
   ]
  },
  {
   "cell_type": "code",
   "execution_count": 48,
   "metadata": {},
   "outputs": [
    {
     "name": "stdout",
     "output_type": "stream",
     "text": [
      "Grouping by OnlineSecurity:\n",
      "Group: No\n",
      "Group: No internet service\n",
      "Group: Yes\n",
      "\n",
      "\n",
      "Grouping by StreamingMovies:\n",
      "Group: No\n",
      "Group: No internet service\n",
      "Group: Yes\n",
      "\n",
      "\n",
      "Grouping by DeviceProtection:\n",
      "Group: No\n",
      "Group: No internet service\n",
      "Group: Yes\n",
      "\n",
      "\n",
      "Grouping by InternetService:\n",
      "Group: DSL\n",
      "Group: Fiber optic\n",
      "Group: No\n",
      "\n",
      "\n",
      "Grouping by TechSupport:\n",
      "Group: No\n",
      "Group: No internet service\n",
      "Group: Yes\n",
      "\n",
      "\n",
      "Grouping by StreamingTV:\n",
      "Group: No\n",
      "Group: No internet service\n",
      "Group: Yes\n",
      "\n",
      "\n",
      "Grouping by StreamingMovies:\n",
      "Group: No\n",
      "Group: No internet service\n",
      "Group: Yes\n",
      "\n",
      "\n",
      "Grouping by MultipleLines:\n",
      "Group: No\n",
      "Group: No phone service\n",
      "Group: Yes\n",
      "\n",
      "\n",
      "Grouping by OnlineBackup:\n",
      "Group: No\n",
      "Group: No internet service\n",
      "Group: Yes\n",
      "\n",
      "\n",
      "Grouping by Contract:\n",
      "Group: Month-to-month\n",
      "Group: One year\n",
      "Group: Two year\n",
      "\n",
      "\n",
      "Grouping by PaymentMethod:\n",
      "Group: Bank transfer (automatic)\n",
      "Group: Credit card (automatic)\n",
      "Group: Electronic check\n",
      "Group: Mailed check\n",
      "\n",
      "\n",
      "Grouping by gender:\n",
      "Group: Female\n",
      "Group: Male\n",
      "\n",
      "\n",
      "Grouping by Partner:\n",
      "Group: No\n",
      "Group: Yes\n",
      "\n",
      "\n",
      "Grouping by Dependents:\n",
      "Group: No\n",
      "Group: Yes\n",
      "\n",
      "\n",
      "Grouping by PhoneService:\n",
      "Group: No\n",
      "Group: Yes\n",
      "\n",
      "\n",
      "Grouping by PaperlessBilling:\n",
      "Group: No\n",
      "Group: Yes\n",
      "\n",
      "\n",
      "Grouping by Churn:\n",
      "Group: No\n",
      "Group: Yes\n",
      "\n",
      "\n"
     ]
    }
   ],
   "source": [
    "# CHECKING FOR MULTICLASS COLUMNS AND BINARY COLUMNS\n",
    "group_columns= ['OnlineSecurity', 'StreamingMovies', 'DeviceProtection', 'InternetService',\t\n",
    "                'TechSupport', 'StreamingTV', 'StreamingMovies', 'MultipleLines', 'OnlineBackup', \n",
    "                'Contract', 'PaymentMethod', 'gender', 'Partner', 'Dependents', 'PhoneService', 'PaperlessBilling', 'Churn']\n",
    "# Get the unique group keys\n",
    "for column in group_columns:\n",
    "    print(f\"Grouping by {column}:\")\n",
    "    groupings= telco_churn.groupby(column)\n",
    "    # Iterate through each group and print group name and data\n",
    "    for name, data in groupings :\n",
    "        print(f\"Group: {name}\")\n",
    "        #print(data.head())  # Print the first few rows of each group\n",
    "    print('\\n')"
   ]
  },
  {
   "cell_type": "code",
   "execution_count": 49,
   "metadata": {},
   "outputs": [],
   "source": [
    "# Coverting target categorical variable to numerical value\n",
    "telco_churn['Churn'] = telco_churn['Churn'].map({'Yes': 1, 'No': 0})"
   ]
  },
  {
   "cell_type": "code",
   "execution_count": 50,
   "metadata": {},
   "outputs": [],
   "source": [
    "#Applying label encoding to binary classes \n",
    "label_encoder= LabelEncoder()\n",
    "binary_columns= ['gender', 'Partner','Dependents', 'PhoneService', 'PaperlessBilling']\n",
    "\n",
    "for columns in binary_columns:\n",
    "    telco_churn[columns]= label_encoder.fit_transform(telco_churn[columns])"
   ]
  },
  {
   "cell_type": "code",
   "execution_count": 51,
   "metadata": {},
   "outputs": [
    {
     "name": "stdout",
     "output_type": "stream",
     "text": [
      "   customerID  gender  SeniorCitizen  Partner  Dependents  tenure  \\\n",
      "0  7590-VHVEG       0              0        1           0       1   \n",
      "1  5575-GNVDE       1              0        0           0      34   \n",
      "2  3668-QPYBK       1              0        0           0       2   \n",
      "3  7795-CFOCW       1              0        0           0      45   \n",
      "4  9237-HQITU       0              0        0           0       2   \n",
      "\n",
      "   PhoneService  PaperlessBilling  MonthlyCharges  TotalCharges  ...  \\\n",
      "0             0                 1           29.85         29.85  ...   \n",
      "1             1                 0           56.95       1889.50  ...   \n",
      "2             1                 1           53.85        108.15  ...   \n",
      "3             0                 0           42.30       1840.75  ...   \n",
      "4             1                 1           70.70        151.65  ...   \n",
      "\n",
      "   OnlineBackup_No  OnlineBackup_No internet service  OnlineBackup_Yes  \\\n",
      "0            False                             False              True   \n",
      "1             True                             False             False   \n",
      "2            False                             False              True   \n",
      "3             True                             False             False   \n",
      "4             True                             False             False   \n",
      "\n",
      "   Contract_Month-to-month  Contract_One year  Contract_Two year  \\\n",
      "0                     True              False              False   \n",
      "1                    False               True              False   \n",
      "2                     True              False              False   \n",
      "3                    False               True              False   \n",
      "4                     True              False              False   \n",
      "\n",
      "   PaymentMethod_Bank transfer (automatic)  \\\n",
      "0                                    False   \n",
      "1                                    False   \n",
      "2                                    False   \n",
      "3                                     True   \n",
      "4                                    False   \n",
      "\n",
      "   PaymentMethod_Credit card (automatic)  PaymentMethod_Electronic check  \\\n",
      "0                                  False                            True   \n",
      "1                                  False                           False   \n",
      "2                                  False                           False   \n",
      "3                                  False                           False   \n",
      "4                                  False                            True   \n",
      "\n",
      "   PaymentMethod_Mailed check  \n",
      "0                       False  \n",
      "1                        True  \n",
      "2                        True  \n",
      "3                       False  \n",
      "4                       False  \n",
      "\n",
      "[5 rows x 42 columns]\n",
      "customerID                                  object\n",
      "gender                                       int32\n",
      "SeniorCitizen                                int64\n",
      "Partner                                      int32\n",
      "Dependents                                   int32\n",
      "tenure                                       int64\n",
      "PhoneService                                 int32\n",
      "PaperlessBilling                             int32\n",
      "MonthlyCharges                             float64\n",
      "TotalCharges                               float64\n",
      "Churn                                        int64\n",
      "InternetService_DSL                           bool\n",
      "InternetService_Fiber optic                   bool\n",
      "InternetService_No                            bool\n",
      "OnlineSecurity_No                             bool\n",
      "OnlineSecurity_No internet service            bool\n",
      "OnlineSecurity_Yes                            bool\n",
      "StreamingMovies_No                            bool\n",
      "StreamingMovies_No internet service           bool\n",
      "StreamingMovies_Yes                           bool\n",
      "DeviceProtection_No                           bool\n",
      "DeviceProtection_No internet service          bool\n",
      "DeviceProtection_Yes                          bool\n",
      "TechSupport_No                                bool\n",
      "TechSupport_No internet service               bool\n",
      "TechSupport_Yes                               bool\n",
      "StreamingTV_No                                bool\n",
      "StreamingTV_No internet service               bool\n",
      "StreamingTV_Yes                               bool\n",
      "MultipleLines_No                              bool\n",
      "MultipleLines_No phone service                bool\n",
      "MultipleLines_Yes                             bool\n",
      "OnlineBackup_No                               bool\n",
      "OnlineBackup_No internet service              bool\n",
      "OnlineBackup_Yes                              bool\n",
      "Contract_Month-to-month                       bool\n",
      "Contract_One year                             bool\n",
      "Contract_Two year                             bool\n",
      "PaymentMethod_Bank transfer (automatic)       bool\n",
      "PaymentMethod_Credit card (automatic)         bool\n",
      "PaymentMethod_Electronic check                bool\n",
      "PaymentMethod_Mailed check                    bool\n",
      "dtype: object\n"
     ]
    }
   ],
   "source": [
    "# Applying one-hot encoding to multiple columns with multiclasses\n",
    "multiclass_encoding = pd.get_dummies(telco_churn, columns=['InternetService', 'OnlineSecurity', \n",
    "                                                          'StreamingMovies', 'DeviceProtection', \n",
    "                                                          'TechSupport', 'StreamingTV', 'MultipleLines', \n",
    "                                                          'OnlineBackup', 'Contract', 'PaymentMethod'], )\n",
    "                                     #drop_first=True)\n",
    "\n",
    "\n",
    "\n",
    "# Check the new columns after encoding\n",
    "print(multiclass_encoding.head())\n",
    "\n",
    "# Check the columns and types again\n",
    "print(multiclass_encoding.dtypes)"
   ]
  },
  {
   "cell_type": "code",
   "execution_count": 52,
   "metadata": {},
   "outputs": [
    {
     "name": "stdout",
     "output_type": "stream",
     "text": [
      "customerID                                  object\n",
      "gender                                       int32\n",
      "SeniorCitizen                                int64\n",
      "Partner                                      int32\n",
      "Dependents                                   int32\n",
      "tenure                                       int64\n",
      "PhoneService                                 int32\n",
      "PaperlessBilling                             int32\n",
      "MonthlyCharges                             float64\n",
      "TotalCharges                               float64\n",
      "Churn                                        int64\n",
      "InternetService_DSL                          int32\n",
      "InternetService_Fiber optic                  int32\n",
      "InternetService_No                           int32\n",
      "OnlineSecurity_No                            int32\n",
      "OnlineSecurity_No internet service           int32\n",
      "OnlineSecurity_Yes                           int32\n",
      "StreamingMovies_No                           int32\n",
      "StreamingMovies_No internet service          int32\n",
      "StreamingMovies_Yes                          int32\n",
      "DeviceProtection_No                          int32\n",
      "DeviceProtection_No internet service         int32\n",
      "DeviceProtection_Yes                         int32\n",
      "TechSupport_No                               int32\n",
      "TechSupport_No internet service              int32\n",
      "TechSupport_Yes                              int32\n",
      "StreamingTV_No                               int32\n",
      "StreamingTV_No internet service              int32\n",
      "StreamingTV_Yes                              int32\n",
      "MultipleLines_No                             int32\n",
      "MultipleLines_No phone service               int32\n",
      "MultipleLines_Yes                            int32\n",
      "OnlineBackup_No                              int32\n",
      "OnlineBackup_No internet service             int32\n",
      "OnlineBackup_Yes                             int32\n",
      "Contract_Month-to-month                      int32\n",
      "Contract_One year                            int32\n",
      "Contract_Two year                            int32\n",
      "PaymentMethod_Bank transfer (automatic)      int32\n",
      "PaymentMethod_Credit card (automatic)        int32\n",
      "PaymentMethod_Electronic check               int32\n",
      "PaymentMethod_Mailed check                   int32\n",
      "dtype: object\n"
     ]
    }
   ],
   "source": [
    "# Converting boolean columns to integers\n",
    "bool_columns = multiclass_encoding.select_dtypes(include=['bool']).columns\n",
    "multiclass_encoding[bool_columns] = multiclass_encoding[bool_columns].astype(int)\n",
    "\n",
    "# Checking the updated data types\n",
    "print(multiclass_encoding.dtypes)\n"
   ]
  },
  {
   "cell_type": "code",
   "execution_count": 53,
   "metadata": {},
   "outputs": [],
   "source": [
    "#Dropping column that does not provide meaningful information \n",
    "multiclass_encoding.drop('customerID', axis= 1, inplace= True)"
   ]
  },
  {
   "cell_type": "code",
   "execution_count": 54,
   "metadata": {},
   "outputs": [],
   "source": [
    "# Separating into target and independent variables\n",
    "X= multiclass_encoding.drop('Churn', axis= 1)\n",
    "y= multiclass_encoding['Churn']\n",
    "\n",
    "#Splitting the data\n",
    "X_train, X_test, y_train, y_test= train_test_split(X, y, test_size= 0.2, random_state= 42)"
   ]
  },
  {
   "cell_type": "code",
   "execution_count": 55,
   "metadata": {},
   "outputs": [],
   "source": [
    "scaler= StandardScaler()\n",
    "scaled_columns= scaler.fit_transform(multiclass_encoding[['TotalCharges', 'MonthlyCharges', 'tenure' ]])\n"
   ]
  },
  {
   "cell_type": "markdown",
   "metadata": {},
   "source": [
    "# Model Selection"
   ]
  },
  {
   "cell_type": "code",
   "execution_count": 56,
   "metadata": {},
   "outputs": [
    {
     "name": "stdout",
     "output_type": "stream",
     "text": [
      "gender                                       int32\n",
      "SeniorCitizen                                int64\n",
      "Partner                                      int32\n",
      "Dependents                                   int32\n",
      "tenure                                       int64\n",
      "PhoneService                                 int32\n",
      "PaperlessBilling                             int32\n",
      "MonthlyCharges                             float64\n",
      "TotalCharges                               float64\n",
      "InternetService_DSL                          int32\n",
      "InternetService_Fiber optic                  int32\n",
      "InternetService_No                           int32\n",
      "OnlineSecurity_No                            int32\n",
      "OnlineSecurity_No internet service           int32\n",
      "OnlineSecurity_Yes                           int32\n",
      "StreamingMovies_No                           int32\n",
      "StreamingMovies_No internet service          int32\n",
      "StreamingMovies_Yes                          int32\n",
      "DeviceProtection_No                          int32\n",
      "DeviceProtection_No internet service         int32\n",
      "DeviceProtection_Yes                         int32\n",
      "TechSupport_No                               int32\n",
      "TechSupport_No internet service              int32\n",
      "TechSupport_Yes                              int32\n",
      "StreamingTV_No                               int32\n",
      "StreamingTV_No internet service              int32\n",
      "StreamingTV_Yes                              int32\n",
      "MultipleLines_No                             int32\n",
      "MultipleLines_No phone service               int32\n",
      "MultipleLines_Yes                            int32\n",
      "OnlineBackup_No                              int32\n",
      "OnlineBackup_No internet service             int32\n",
      "OnlineBackup_Yes                             int32\n",
      "Contract_Month-to-month                      int32\n",
      "Contract_One year                            int32\n",
      "Contract_Two year                            int32\n",
      "PaymentMethod_Bank transfer (automatic)      int32\n",
      "PaymentMethod_Credit card (automatic)        int32\n",
      "PaymentMethod_Electronic check               int32\n",
      "PaymentMethod_Mailed check                   int32\n",
      "dtype: object\n"
     ]
    }
   ],
   "source": [
    "# Confirming the datatypes of the X_train\n",
    "print(X_train.dtypes)\n"
   ]
  },
  {
   "cell_type": "code",
   "execution_count": 57,
   "metadata": {},
   "outputs": [
    {
     "name": "stdout",
     "output_type": "stream",
     "text": [
      "The accuracy score of the Logistic regression is 0.82\n",
      "              precision    recall  f1-score   support\n",
      "\n",
      "           0       0.86      0.90      0.88      1036\n",
      "           1       0.69      0.61      0.65       373\n",
      "\n",
      "    accuracy                           0.82      1409\n",
      "   macro avg       0.78      0.76      0.76      1409\n",
      "weighted avg       0.82      0.82      0.82      1409\n",
      "\n"
     ]
    },
    {
     "name": "stderr",
     "output_type": "stream",
     "text": [
      "C:\\ProgramData\\anaconda3\\Lib\\site-packages\\sklearn\\linear_model\\_logistic.py:469: ConvergenceWarning: lbfgs failed to converge (status=1):\n",
      "STOP: TOTAL NO. of ITERATIONS REACHED LIMIT.\n",
      "\n",
      "Increase the number of iterations (max_iter) or scale the data as shown in:\n",
      "    https://scikit-learn.org/stable/modules/preprocessing.html\n",
      "Please also refer to the documentation for alternative solver options:\n",
      "    https://scikit-learn.org/stable/modules/linear_model.html#logistic-regression\n",
      "  n_iter_i = _check_optimize_result(\n"
     ]
    }
   ],
   "source": [
    "# Using Logistic regression\n",
    "from sklearn.metrics import accuracy_score, classification_report, confusion_matrix\n",
    "logistic_model= LogisticRegression()\n",
    "logistic_model.fit(X_train, y_train)\n",
    "\n",
    "y_log_reg_pred= logistic_model.predict(X_test)\n",
    "\n",
    "accuracy= accuracy_score(y_test, y_log_reg_pred)\n",
    "print(f'The accuracy score of the Logistic regression is {accuracy:.2f}')\n",
    "print(classification_report(y_test, y_log_reg_pred))"
   ]
  },
  {
   "cell_type": "code",
   "execution_count": 58,
   "metadata": {},
   "outputs": [
    {
     "name": "stdout",
     "output_type": "stream",
     "text": [
      "Random Forest Accuracy: 0.80\n",
      "              precision    recall  f1-score   support\n",
      "\n",
      "           0       0.83      0.91      0.87      1036\n",
      "           1       0.66      0.48      0.56       373\n",
      "\n",
      "    accuracy                           0.80      1409\n",
      "   macro avg       0.75      0.70      0.71      1409\n",
      "weighted avg       0.78      0.80      0.79      1409\n",
      "\n"
     ]
    }
   ],
   "source": [
    "# using Random forest model\n",
    "from sklearn.ensemble import RandomForestClassifier\n",
    "\n",
    "forest_model= RandomForestClassifier(n_estimators= 100, random_state= 42)\n",
    "forest_model.fit(X_train, y_train)\n",
    "\n",
    "y_rf_pred= forest_model.predict(X_test)\n",
    "\n",
    "# Evaluate the model\n",
    "print(f'Random Forest Accuracy: {accuracy_score(y_test, y_rf_pred):.2f}')\n",
    "print(classification_report(y_test, y_rf_pred))\n",
    "\n"
   ]
  },
  {
   "cell_type": "code",
   "execution_count": 59,
   "metadata": {},
   "outputs": [
    {
     "name": "stdout",
     "output_type": "stream",
     "text": [
      "Accuracy: 0.7934705464868701\n",
      "\n",
      "Classification Report:\n",
      "              precision    recall  f1-score   support\n",
      "\n",
      "           0       0.82      0.92      0.87      1036\n",
      "           1       0.66      0.45      0.54       373\n",
      "\n",
      "    accuracy                           0.79      1409\n",
      "   macro avg       0.74      0.68      0.70      1409\n",
      "weighted avg       0.78      0.79      0.78      1409\n",
      "\n"
     ]
    }
   ],
   "source": [
    "from sklearn.svm import SVC\n",
    "svm_model = SVC(kernel='linear', C=1.0, random_state=42)  \n",
    "# Train the model\n",
    "svm_model.fit(X_train, y_train)\n",
    "\n",
    "# Make predictions on the test set\n",
    "y_svc_pred = svm_model.predict(X_test)\n",
    "\n",
    "# Evaluate the model's performance\n",
    "print(\"Accuracy:\", accuracy_score(y_test, y_svc_pred))\n",
    "print(\"\\nClassification Report:\")\n",
    "print(classification_report(y_test, y_svc_pred))"
   ]
  },
  {
   "cell_type": "code",
   "execution_count": 60,
   "metadata": {},
   "outputs": [
    {
     "data": {
      "text/plain": [
       "gender                                     0\n",
       "SeniorCitizen                              0\n",
       "Partner                                    0\n",
       "Dependents                                 0\n",
       "tenure                                     0\n",
       "PhoneService                               0\n",
       "PaperlessBilling                           0\n",
       "MonthlyCharges                             0\n",
       "TotalCharges                               0\n",
       "Churn                                      0\n",
       "InternetService_DSL                        0\n",
       "InternetService_Fiber optic                0\n",
       "InternetService_No                         0\n",
       "OnlineSecurity_No                          0\n",
       "OnlineSecurity_No internet service         0\n",
       "OnlineSecurity_Yes                         0\n",
       "StreamingMovies_No                         0\n",
       "StreamingMovies_No internet service        0\n",
       "StreamingMovies_Yes                        0\n",
       "DeviceProtection_No                        0\n",
       "DeviceProtection_No internet service       0\n",
       "DeviceProtection_Yes                       0\n",
       "TechSupport_No                             0\n",
       "TechSupport_No internet service            0\n",
       "TechSupport_Yes                            0\n",
       "StreamingTV_No                             0\n",
       "StreamingTV_No internet service            0\n",
       "StreamingTV_Yes                            0\n",
       "MultipleLines_No                           0\n",
       "MultipleLines_No phone service             0\n",
       "MultipleLines_Yes                          0\n",
       "OnlineBackup_No                            0\n",
       "OnlineBackup_No internet service           0\n",
       "OnlineBackup_Yes                           0\n",
       "Contract_Month-to-month                    0\n",
       "Contract_One year                          0\n",
       "Contract_Two year                          0\n",
       "PaymentMethod_Bank transfer (automatic)    0\n",
       "PaymentMethod_Credit card (automatic)      0\n",
       "PaymentMethod_Electronic check             0\n",
       "PaymentMethod_Mailed check                 0\n",
       "dtype: int64"
      ]
     },
     "execution_count": 60,
     "metadata": {},
     "output_type": "execute_result"
    }
   ],
   "source": [
    "# Confirming that there is no null values in each column of the dataset\n",
    "multiclass_encoding.isnull().sum()"
   ]
  },
  {
   "cell_type": "code",
   "execution_count": 61,
   "metadata": {},
   "outputs": [
    {
     "data": {
      "text/html": [
       "<div>\n",
       "<style scoped>\n",
       "    .dataframe tbody tr th:only-of-type {\n",
       "        vertical-align: middle;\n",
       "    }\n",
       "\n",
       "    .dataframe tbody tr th {\n",
       "        vertical-align: top;\n",
       "    }\n",
       "\n",
       "    .dataframe thead th {\n",
       "        text-align: right;\n",
       "    }\n",
       "</style>\n",
       "<table border=\"1\" class=\"dataframe\">\n",
       "  <thead>\n",
       "    <tr style=\"text-align: right;\">\n",
       "      <th></th>\n",
       "      <th>gender</th>\n",
       "      <th>SeniorCitizen</th>\n",
       "      <th>Partner</th>\n",
       "      <th>Dependents</th>\n",
       "      <th>tenure</th>\n",
       "      <th>PhoneService</th>\n",
       "      <th>PaperlessBilling</th>\n",
       "      <th>MonthlyCharges</th>\n",
       "      <th>TotalCharges</th>\n",
       "      <th>Churn</th>\n",
       "      <th>...</th>\n",
       "      <th>OnlineBackup_No</th>\n",
       "      <th>OnlineBackup_No internet service</th>\n",
       "      <th>OnlineBackup_Yes</th>\n",
       "      <th>Contract_Month-to-month</th>\n",
       "      <th>Contract_One year</th>\n",
       "      <th>Contract_Two year</th>\n",
       "      <th>PaymentMethod_Bank transfer (automatic)</th>\n",
       "      <th>PaymentMethod_Credit card (automatic)</th>\n",
       "      <th>PaymentMethod_Electronic check</th>\n",
       "      <th>PaymentMethod_Mailed check</th>\n",
       "    </tr>\n",
       "  </thead>\n",
       "  <tbody>\n",
       "    <tr>\n",
       "      <th>0</th>\n",
       "      <td>0</td>\n",
       "      <td>0</td>\n",
       "      <td>1</td>\n",
       "      <td>0</td>\n",
       "      <td>1</td>\n",
       "      <td>0</td>\n",
       "      <td>1</td>\n",
       "      <td>29.85</td>\n",
       "      <td>29.85</td>\n",
       "      <td>0</td>\n",
       "      <td>...</td>\n",
       "      <td>0</td>\n",
       "      <td>0</td>\n",
       "      <td>1</td>\n",
       "      <td>1</td>\n",
       "      <td>0</td>\n",
       "      <td>0</td>\n",
       "      <td>0</td>\n",
       "      <td>0</td>\n",
       "      <td>1</td>\n",
       "      <td>0</td>\n",
       "    </tr>\n",
       "    <tr>\n",
       "      <th>1</th>\n",
       "      <td>1</td>\n",
       "      <td>0</td>\n",
       "      <td>0</td>\n",
       "      <td>0</td>\n",
       "      <td>34</td>\n",
       "      <td>1</td>\n",
       "      <td>0</td>\n",
       "      <td>56.95</td>\n",
       "      <td>1889.50</td>\n",
       "      <td>0</td>\n",
       "      <td>...</td>\n",
       "      <td>1</td>\n",
       "      <td>0</td>\n",
       "      <td>0</td>\n",
       "      <td>0</td>\n",
       "      <td>1</td>\n",
       "      <td>0</td>\n",
       "      <td>0</td>\n",
       "      <td>0</td>\n",
       "      <td>0</td>\n",
       "      <td>1</td>\n",
       "    </tr>\n",
       "    <tr>\n",
       "      <th>2</th>\n",
       "      <td>1</td>\n",
       "      <td>0</td>\n",
       "      <td>0</td>\n",
       "      <td>0</td>\n",
       "      <td>2</td>\n",
       "      <td>1</td>\n",
       "      <td>1</td>\n",
       "      <td>53.85</td>\n",
       "      <td>108.15</td>\n",
       "      <td>1</td>\n",
       "      <td>...</td>\n",
       "      <td>0</td>\n",
       "      <td>0</td>\n",
       "      <td>1</td>\n",
       "      <td>1</td>\n",
       "      <td>0</td>\n",
       "      <td>0</td>\n",
       "      <td>0</td>\n",
       "      <td>0</td>\n",
       "      <td>0</td>\n",
       "      <td>1</td>\n",
       "    </tr>\n",
       "    <tr>\n",
       "      <th>3</th>\n",
       "      <td>1</td>\n",
       "      <td>0</td>\n",
       "      <td>0</td>\n",
       "      <td>0</td>\n",
       "      <td>45</td>\n",
       "      <td>0</td>\n",
       "      <td>0</td>\n",
       "      <td>42.30</td>\n",
       "      <td>1840.75</td>\n",
       "      <td>0</td>\n",
       "      <td>...</td>\n",
       "      <td>1</td>\n",
       "      <td>0</td>\n",
       "      <td>0</td>\n",
       "      <td>0</td>\n",
       "      <td>1</td>\n",
       "      <td>0</td>\n",
       "      <td>1</td>\n",
       "      <td>0</td>\n",
       "      <td>0</td>\n",
       "      <td>0</td>\n",
       "    </tr>\n",
       "    <tr>\n",
       "      <th>4</th>\n",
       "      <td>0</td>\n",
       "      <td>0</td>\n",
       "      <td>0</td>\n",
       "      <td>0</td>\n",
       "      <td>2</td>\n",
       "      <td>1</td>\n",
       "      <td>1</td>\n",
       "      <td>70.70</td>\n",
       "      <td>151.65</td>\n",
       "      <td>1</td>\n",
       "      <td>...</td>\n",
       "      <td>1</td>\n",
       "      <td>0</td>\n",
       "      <td>0</td>\n",
       "      <td>1</td>\n",
       "      <td>0</td>\n",
       "      <td>0</td>\n",
       "      <td>0</td>\n",
       "      <td>0</td>\n",
       "      <td>1</td>\n",
       "      <td>0</td>\n",
       "    </tr>\n",
       "    <tr>\n",
       "      <th>...</th>\n",
       "      <td>...</td>\n",
       "      <td>...</td>\n",
       "      <td>...</td>\n",
       "      <td>...</td>\n",
       "      <td>...</td>\n",
       "      <td>...</td>\n",
       "      <td>...</td>\n",
       "      <td>...</td>\n",
       "      <td>...</td>\n",
       "      <td>...</td>\n",
       "      <td>...</td>\n",
       "      <td>...</td>\n",
       "      <td>...</td>\n",
       "      <td>...</td>\n",
       "      <td>...</td>\n",
       "      <td>...</td>\n",
       "      <td>...</td>\n",
       "      <td>...</td>\n",
       "      <td>...</td>\n",
       "      <td>...</td>\n",
       "      <td>...</td>\n",
       "    </tr>\n",
       "    <tr>\n",
       "      <th>7038</th>\n",
       "      <td>1</td>\n",
       "      <td>0</td>\n",
       "      <td>1</td>\n",
       "      <td>1</td>\n",
       "      <td>24</td>\n",
       "      <td>1</td>\n",
       "      <td>1</td>\n",
       "      <td>84.80</td>\n",
       "      <td>1990.50</td>\n",
       "      <td>0</td>\n",
       "      <td>...</td>\n",
       "      <td>1</td>\n",
       "      <td>0</td>\n",
       "      <td>0</td>\n",
       "      <td>0</td>\n",
       "      <td>1</td>\n",
       "      <td>0</td>\n",
       "      <td>0</td>\n",
       "      <td>0</td>\n",
       "      <td>0</td>\n",
       "      <td>1</td>\n",
       "    </tr>\n",
       "    <tr>\n",
       "      <th>7039</th>\n",
       "      <td>0</td>\n",
       "      <td>0</td>\n",
       "      <td>1</td>\n",
       "      <td>1</td>\n",
       "      <td>72</td>\n",
       "      <td>1</td>\n",
       "      <td>1</td>\n",
       "      <td>103.20</td>\n",
       "      <td>7362.90</td>\n",
       "      <td>0</td>\n",
       "      <td>...</td>\n",
       "      <td>0</td>\n",
       "      <td>0</td>\n",
       "      <td>1</td>\n",
       "      <td>0</td>\n",
       "      <td>1</td>\n",
       "      <td>0</td>\n",
       "      <td>0</td>\n",
       "      <td>1</td>\n",
       "      <td>0</td>\n",
       "      <td>0</td>\n",
       "    </tr>\n",
       "    <tr>\n",
       "      <th>7040</th>\n",
       "      <td>0</td>\n",
       "      <td>0</td>\n",
       "      <td>1</td>\n",
       "      <td>1</td>\n",
       "      <td>11</td>\n",
       "      <td>0</td>\n",
       "      <td>1</td>\n",
       "      <td>29.60</td>\n",
       "      <td>346.45</td>\n",
       "      <td>0</td>\n",
       "      <td>...</td>\n",
       "      <td>1</td>\n",
       "      <td>0</td>\n",
       "      <td>0</td>\n",
       "      <td>1</td>\n",
       "      <td>0</td>\n",
       "      <td>0</td>\n",
       "      <td>0</td>\n",
       "      <td>0</td>\n",
       "      <td>1</td>\n",
       "      <td>0</td>\n",
       "    </tr>\n",
       "    <tr>\n",
       "      <th>7041</th>\n",
       "      <td>1</td>\n",
       "      <td>1</td>\n",
       "      <td>1</td>\n",
       "      <td>0</td>\n",
       "      <td>4</td>\n",
       "      <td>1</td>\n",
       "      <td>1</td>\n",
       "      <td>74.40</td>\n",
       "      <td>306.60</td>\n",
       "      <td>1</td>\n",
       "      <td>...</td>\n",
       "      <td>1</td>\n",
       "      <td>0</td>\n",
       "      <td>0</td>\n",
       "      <td>1</td>\n",
       "      <td>0</td>\n",
       "      <td>0</td>\n",
       "      <td>0</td>\n",
       "      <td>0</td>\n",
       "      <td>0</td>\n",
       "      <td>1</td>\n",
       "    </tr>\n",
       "    <tr>\n",
       "      <th>7042</th>\n",
       "      <td>1</td>\n",
       "      <td>0</td>\n",
       "      <td>0</td>\n",
       "      <td>0</td>\n",
       "      <td>66</td>\n",
       "      <td>1</td>\n",
       "      <td>1</td>\n",
       "      <td>105.65</td>\n",
       "      <td>6844.50</td>\n",
       "      <td>0</td>\n",
       "      <td>...</td>\n",
       "      <td>1</td>\n",
       "      <td>0</td>\n",
       "      <td>0</td>\n",
       "      <td>0</td>\n",
       "      <td>0</td>\n",
       "      <td>1</td>\n",
       "      <td>1</td>\n",
       "      <td>0</td>\n",
       "      <td>0</td>\n",
       "      <td>0</td>\n",
       "    </tr>\n",
       "  </tbody>\n",
       "</table>\n",
       "<p>7043 rows × 41 columns</p>\n",
       "</div>"
      ],
      "text/plain": [
       "      gender  SeniorCitizen  Partner  Dependents  tenure  PhoneService  \\\n",
       "0          0              0        1           0       1             0   \n",
       "1          1              0        0           0      34             1   \n",
       "2          1              0        0           0       2             1   \n",
       "3          1              0        0           0      45             0   \n",
       "4          0              0        0           0       2             1   \n",
       "...      ...            ...      ...         ...     ...           ...   \n",
       "7038       1              0        1           1      24             1   \n",
       "7039       0              0        1           1      72             1   \n",
       "7040       0              0        1           1      11             0   \n",
       "7041       1              1        1           0       4             1   \n",
       "7042       1              0        0           0      66             1   \n",
       "\n",
       "      PaperlessBilling  MonthlyCharges  TotalCharges  Churn  ...  \\\n",
       "0                    1           29.85         29.85      0  ...   \n",
       "1                    0           56.95       1889.50      0  ...   \n",
       "2                    1           53.85        108.15      1  ...   \n",
       "3                    0           42.30       1840.75      0  ...   \n",
       "4                    1           70.70        151.65      1  ...   \n",
       "...                ...             ...           ...    ...  ...   \n",
       "7038                 1           84.80       1990.50      0  ...   \n",
       "7039                 1          103.20       7362.90      0  ...   \n",
       "7040                 1           29.60        346.45      0  ...   \n",
       "7041                 1           74.40        306.60      1  ...   \n",
       "7042                 1          105.65       6844.50      0  ...   \n",
       "\n",
       "      OnlineBackup_No  OnlineBackup_No internet service  OnlineBackup_Yes  \\\n",
       "0                   0                                 0                 1   \n",
       "1                   1                                 0                 0   \n",
       "2                   0                                 0                 1   \n",
       "3                   1                                 0                 0   \n",
       "4                   1                                 0                 0   \n",
       "...               ...                               ...               ...   \n",
       "7038                1                                 0                 0   \n",
       "7039                0                                 0                 1   \n",
       "7040                1                                 0                 0   \n",
       "7041                1                                 0                 0   \n",
       "7042                1                                 0                 0   \n",
       "\n",
       "      Contract_Month-to-month  Contract_One year  Contract_Two year  \\\n",
       "0                           1                  0                  0   \n",
       "1                           0                  1                  0   \n",
       "2                           1                  0                  0   \n",
       "3                           0                  1                  0   \n",
       "4                           1                  0                  0   \n",
       "...                       ...                ...                ...   \n",
       "7038                        0                  1                  0   \n",
       "7039                        0                  1                  0   \n",
       "7040                        1                  0                  0   \n",
       "7041                        1                  0                  0   \n",
       "7042                        0                  0                  1   \n",
       "\n",
       "      PaymentMethod_Bank transfer (automatic)  \\\n",
       "0                                           0   \n",
       "1                                           0   \n",
       "2                                           0   \n",
       "3                                           1   \n",
       "4                                           0   \n",
       "...                                       ...   \n",
       "7038                                        0   \n",
       "7039                                        0   \n",
       "7040                                        0   \n",
       "7041                                        0   \n",
       "7042                                        1   \n",
       "\n",
       "      PaymentMethod_Credit card (automatic)  PaymentMethod_Electronic check  \\\n",
       "0                                         0                               1   \n",
       "1                                         0                               0   \n",
       "2                                         0                               0   \n",
       "3                                         0                               0   \n",
       "4                                         0                               1   \n",
       "...                                     ...                             ...   \n",
       "7038                                      0                               0   \n",
       "7039                                      1                               0   \n",
       "7040                                      0                               1   \n",
       "7041                                      0                               0   \n",
       "7042                                      0                               0   \n",
       "\n",
       "      PaymentMethod_Mailed check  \n",
       "0                              0  \n",
       "1                              1  \n",
       "2                              1  \n",
       "3                              0  \n",
       "4                              0  \n",
       "...                          ...  \n",
       "7038                           1  \n",
       "7039                           0  \n",
       "7040                           0  \n",
       "7041                           1  \n",
       "7042                           0  \n",
       "\n",
       "[7043 rows x 41 columns]"
      ]
     },
     "execution_count": 61,
     "metadata": {},
     "output_type": "execute_result"
    }
   ],
   "source": [
    "multiclass_encoding"
   ]
  },
  {
   "cell_type": "code",
   "execution_count": 62,
   "metadata": {},
   "outputs": [
    {
     "name": "stdout",
     "output_type": "stream",
     "text": [
      "Defaulting to user installation because normal site-packages is not writeableNote: you may need to restart the kernel to use updated packages.\n",
      "\n",
      "Requirement already satisfied: xgboost in c:\\users\\inemesit ido\\appdata\\roaming\\python\\python312\\site-packages (2.1.2)\n",
      "Requirement already satisfied: numpy in c:\\programdata\\anaconda3\\lib\\site-packages (from xgboost) (1.26.4)\n",
      "Requirement already satisfied: scipy in c:\\programdata\\anaconda3\\lib\\site-packages (from xgboost) (1.13.1)\n"
     ]
    }
   ],
   "source": [
    "pip install xgboost"
   ]
  },
  {
   "cell_type": "code",
   "execution_count": 63,
   "metadata": {},
   "outputs": [
    {
     "name": "stdout",
     "output_type": "stream",
     "text": [
      "Defaulting to user installation because normal site-packages is not writeableNote: you may need to restart the kernel to use updated packages.\n",
      "\n",
      "Requirement already satisfied: imbalanced-learn in c:\\programdata\\anaconda3\\lib\\site-packages (0.12.3)\n",
      "Requirement already satisfied: numpy>=1.17.3 in c:\\programdata\\anaconda3\\lib\\site-packages (from imbalanced-learn) (1.26.4)\n",
      "Requirement already satisfied: scipy>=1.5.0 in c:\\programdata\\anaconda3\\lib\\site-packages (from imbalanced-learn) (1.13.1)\n",
      "Requirement already satisfied: scikit-learn>=1.0.2 in c:\\programdata\\anaconda3\\lib\\site-packages (from imbalanced-learn) (1.4.2)\n",
      "Requirement already satisfied: joblib>=1.1.1 in c:\\programdata\\anaconda3\\lib\\site-packages (from imbalanced-learn) (1.4.2)\n",
      "Requirement already satisfied: threadpoolctl>=2.0.0 in c:\\programdata\\anaconda3\\lib\\site-packages (from imbalanced-learn) (2.2.0)\n"
     ]
    }
   ],
   "source": [
    "pip install imbalanced-learn\n"
   ]
  },
  {
   "cell_type": "markdown",
   "metadata": {},
   "source": [
    "# Improving performance of model"
   ]
  },
  {
   "cell_type": "code",
   "execution_count": 64,
   "metadata": {},
   "outputs": [],
   "source": [
    "import numpy as np\n",
    "from sklearn.model_selection import train_test_split\n",
    "from imblearn.over_sampling import RandomOverSampler, SMOTE\n",
    "from imblearn.under_sampling import RandomUnderSampler"
   ]
  },
  {
   "cell_type": "code",
   "execution_count": 65,
   "metadata": {},
   "outputs": [
    {
     "name": "stdout",
     "output_type": "stream",
     "text": [
      "Class distribution after oversampling: [4138 4138]\n",
      "              precision    recall  f1-score   support\n",
      "\n",
      "           0       0.88      0.83      0.85      1036\n",
      "           1       0.59      0.70      0.64       373\n",
      "\n",
      "    accuracy                           0.79      1409\n",
      "   macro avg       0.74      0.76      0.75      1409\n",
      "weighted avg       0.81      0.79      0.80      1409\n",
      "\n"
     ]
    }
   ],
   "source": [
    "# Applying Random Oversampling using random forest classifier\n",
    "oversample = RandomOverSampler(sampling_strategy='minority')\n",
    "X_resampled, y_resampled = oversample.fit_resample(X_train, y_train)\n",
    "print(f'Class distribution after oversampling: {np.bincount(y_resampled)}')\n",
    "\n",
    "# Training a model on resampled data\n",
    "model = RandomForestClassifier(max_depth=30, min_samples_split=10, n_estimators=100, random_state=42)\n",
    "model.fit(X_resampled, y_resampled)\n",
    "\n",
    "# Predictions\n",
    "y_pred = model.predict(X_test)\n",
    "print(classification_report(y_test, y_pred))\n"
   ]
  },
  {
   "cell_type": "code",
   "execution_count": 66,
   "metadata": {},
   "outputs": [
    {
     "name": "stdout",
     "output_type": "stream",
     "text": [
      "Class distribution after undersampling: [1496 1496]\n",
      "              precision    recall  f1-score   support\n",
      "\n",
      "           0       0.92      0.74      0.82      1036\n",
      "           1       0.54      0.82      0.65       373\n",
      "\n",
      "    accuracy                           0.76      1409\n",
      "   macro avg       0.73      0.78      0.74      1409\n",
      "weighted avg       0.82      0.76      0.78      1409\n",
      "\n"
     ]
    }
   ],
   "source": [
    "# Applying Random Undersampling using random forest classifier\n",
    "undersample = RandomUnderSampler(sampling_strategy='majority')\n",
    "X_resampled, y_resampled = undersample.fit_resample(X_train, y_train)\n",
    "print(f'Class distribution after undersampling: {np.bincount(y_resampled)}')\n",
    "\n",
    "# Training a model on resampled data\n",
    "model = RandomForestClassifier(max_depth=30, min_samples_split=10, n_estimators=100, random_state=42)\n",
    "model.fit(X_resampled, y_resampled)\n",
    "\n",
    "# Predictions\n",
    "y_pred = model.predict(X_test)\n",
    "print(classification_report(y_test, y_pred))\n"
   ]
  },
  {
   "cell_type": "code",
   "execution_count": 67,
   "metadata": {},
   "outputs": [
    {
     "name": "stdout",
     "output_type": "stream",
     "text": [
      "Class distribution after SMOTE: [4138 4138]\n",
      "              precision    recall  f1-score   support\n",
      "\n",
      "           0       0.84      0.87      0.86      1036\n",
      "           1       0.61      0.55      0.58       373\n",
      "\n",
      "    accuracy                           0.79      1409\n",
      "   macro avg       0.73      0.71      0.72      1409\n",
      "weighted avg       0.78      0.79      0.78      1409\n",
      "\n"
     ]
    }
   ],
   "source": [
    "# Applying SMOTE for synthetic data generation using random forest classifier\n",
    "smote = SMOTE(sampling_strategy='auto')\n",
    "X_resampled, y_resampled = smote.fit_resample(X_train, y_train)\n",
    "print(f'Class distribution after SMOTE: {np.bincount(y_resampled)}')\n",
    "\n",
    "# Training a model on resampled data\n",
    "model = RandomForestClassifier()\n",
    "model.fit(X_resampled, y_resampled)\n",
    "\n",
    "# Predictions\n",
    "y_pred = model.predict(X_test)\n",
    "print(classification_report(y_test, y_pred))\n"
   ]
  },
  {
   "cell_type": "code",
   "execution_count": 76,
   "metadata": {},
   "outputs": [
    {
     "name": "stdout",
     "output_type": "stream",
     "text": [
      "Class distribution after oversampling:[4138 4138]\n",
      "              precision    recall  f1-score   support\n",
      "\n",
      "           0       0.92      0.73      0.81      1036\n",
      "           1       0.52      0.82      0.64       373\n",
      "\n",
      "    accuracy                           0.75      1409\n",
      "   macro avg       0.72      0.77      0.73      1409\n",
      "weighted avg       0.81      0.75      0.77      1409\n",
      "\n"
     ]
    },
    {
     "name": "stderr",
     "output_type": "stream",
     "text": [
      "C:\\ProgramData\\anaconda3\\Lib\\site-packages\\sklearn\\linear_model\\_logistic.py:469: ConvergenceWarning: lbfgs failed to converge (status=1):\n",
      "STOP: TOTAL NO. of ITERATIONS REACHED LIMIT.\n",
      "\n",
      "Increase the number of iterations (max_iter) or scale the data as shown in:\n",
      "    https://scikit-learn.org/stable/modules/preprocessing.html\n",
      "Please also refer to the documentation for alternative solver options:\n",
      "    https://scikit-learn.org/stable/modules/linear_model.html#logistic-regression\n",
      "  n_iter_i = _check_optimize_result(\n"
     ]
    }
   ],
   "source": [
    "# Applying Random Oversampling using logistic regression \n",
    "lr_oversample= RandomOverSampler(sampling_strategy='minority',random_state=42)\n",
    "X_oversampled, y_oversampled= lr_oversample.fit_resample(X_train, y_train)\n",
    "print(f'Class distribution after oversampling:{np.bincount(y_oversampled)}')\n",
    "\n",
    "# training the model using logistic regression\n",
    "over_lr_model= LogisticRegression(random_state=42)\n",
    "over_lr_model.fit(X_oversampled, y_oversampled)\n",
    "\n",
    "# predictions\n",
    "over_y_pred= over_lr_model.predict(X_test)\n",
    "print(classification_report(y_test, over_y_pred))"
   ]
  },
  {
   "cell_type": "code",
   "execution_count": 73,
   "metadata": {},
   "outputs": [
    {
     "name": "stdout",
     "output_type": "stream",
     "text": [
      "Class distribution after undersampling: [1496 1496]\n",
      "              precision    recall  f1-score   support\n",
      "\n",
      "           0       0.92      0.74      0.82      1036\n",
      "           1       0.53      0.82      0.64       373\n",
      "\n",
      "    accuracy                           0.76      1409\n",
      "   macro avg       0.72      0.78      0.73      1409\n",
      "weighted avg       0.81      0.76      0.77      1409\n",
      "\n"
     ]
    },
    {
     "name": "stderr",
     "output_type": "stream",
     "text": [
      "C:\\ProgramData\\anaconda3\\Lib\\site-packages\\sklearn\\linear_model\\_logistic.py:469: ConvergenceWarning: lbfgs failed to converge (status=1):\n",
      "STOP: TOTAL NO. of ITERATIONS REACHED LIMIT.\n",
      "\n",
      "Increase the number of iterations (max_iter) or scale the data as shown in:\n",
      "    https://scikit-learn.org/stable/modules/preprocessing.html\n",
      "Please also refer to the documentation for alternative solver options:\n",
      "    https://scikit-learn.org/stable/modules/linear_model.html#logistic-regression\n",
      "  n_iter_i = _check_optimize_result(\n"
     ]
    }
   ],
   "source": [
    "# Applying Random Undersampling using logistic regression\n",
    "lr_undersample = RandomUnderSampler(sampling_strategy= 'majority',random_state=42)\n",
    "X_undersampled, y_undersampled = lr_undersample.fit_resample(X_train, y_train)\n",
    "print(f'Class distribution after undersampling: {np.bincount(y_undersampled)}')\n",
    "\n",
    "# Training a model on resampled data\n",
    "under_lr_model = LogisticRegression(random_state=42)\n",
    "under_lr_model.fit(X_undersampled, y_undersampled)\n",
    "\n",
    "# Predictions\n",
    "under_y_pred = under_lr_model.predict(X_test)\n",
    "print(classification_report(y_test, under_y_pred))"
   ]
  },
  {
   "cell_type": "code",
   "execution_count": 77,
   "metadata": {},
   "outputs": [
    {
     "name": "stdout",
     "output_type": "stream",
     "text": [
      "              precision    recall  f1-score   support\n",
      "\n",
      "           0       0.84      0.87      0.86      1036\n",
      "           1       0.61      0.55      0.58       373\n",
      "\n",
      "    accuracy                           0.79      1409\n",
      "   macro avg       0.73      0.71      0.72      1409\n",
      "weighted avg       0.78      0.79      0.78      1409\n",
      "\n"
     ]
    },
    {
     "name": "stderr",
     "output_type": "stream",
     "text": [
      "C:\\ProgramData\\anaconda3\\Lib\\site-packages\\sklearn\\linear_model\\_logistic.py:469: ConvergenceWarning: lbfgs failed to converge (status=1):\n",
      "STOP: TOTAL NO. of ITERATIONS REACHED LIMIT.\n",
      "\n",
      "Increase the number of iterations (max_iter) or scale the data as shown in:\n",
      "    https://scikit-learn.org/stable/modules/preprocessing.html\n",
      "Please also refer to the documentation for alternative solver options:\n",
      "    https://scikit-learn.org/stable/modules/linear_model.html#logistic-regression\n",
      "  n_iter_i = _check_optimize_result(\n"
     ]
    }
   ],
   "source": [
    "# Applying SMOTE for synthetic data generation using logistic regression\n",
    "LR_smote= SMOTE(sampling_strategy= 'minority',random_state=42)\n",
    "X_train_smote, y_train_smote= smote.fit_resample(X_train, y_train)\n",
    "\n",
    "# Training the model with logistic regression\n",
    "smlr_model= LogisticRegression()\n",
    "smlr_model.fit(X_train_smote, y_train_smote)\n",
    "\n",
    "# predicting the model\n",
    "smlr_y_pred = model.predict(X_test)\n",
    "print(classification_report(y_test, smlr_y_pred))\n"
   ]
  },
  {
   "cell_type": "code",
   "execution_count": 79,
   "metadata": {},
   "outputs": [
    {
     "name": "stdout",
     "output_type": "stream",
     "text": [
      "              precision    recall  f1-score   support\n",
      "\n",
      "           0       0.91      0.71      0.80      1036\n",
      "           1       0.50      0.80      0.61       373\n",
      "\n",
      "    accuracy                           0.73      1409\n",
      "   macro avg       0.70      0.75      0.71      1409\n",
      "weighted avg       0.80      0.73      0.75      1409\n",
      "\n"
     ]
    }
   ],
   "source": [
    "# Apply Random Oversampling\n",
    "svm_oversampler = RandomOverSampler(random_state=42)\n",
    "X_svm_resampled, y_svm_resampled = svm_oversampler.fit_resample(X_train, y_train)\n",
    "\n",
    "# Train SVM on the resampled data\n",
    "svm_model = SVC(kernel='linear', random_state=42)\n",
    "svm_model.fit(X_svm_resampled, y_svm_resampled)\n",
    "\n",
    "# Evaluate the model\n",
    "y_svm_pred = svm_model.predict(X_test)\n",
    "print(classification_report(y_test, y_svm_pred))"
   ]
  },
  {
   "cell_type": "code",
   "execution_count": 82,
   "metadata": {},
   "outputs": [
    {
     "name": "stdout",
     "output_type": "stream",
     "text": [
      "              precision    recall  f1-score   support\n",
      "\n",
      "           0       0.91      0.77      0.83      1036\n",
      "           1       0.55      0.78      0.64       373\n",
      "\n",
      "    accuracy                           0.77      1409\n",
      "   macro avg       0.73      0.77      0.74      1409\n",
      "weighted avg       0.81      0.77      0.78      1409\n",
      "\n"
     ]
    }
   ],
   "source": [
    "# Apply Random Undersampling\n",
    "svm_undersampler = RandomUnderSampler(random_state=42)\n",
    "X_svm_undersampled, y_svm_undersampled = svm_undersampler.fit_resample(X_train, y_train)\n",
    "\n",
    "# Train SVM on the resampled data\n",
    "svm_under_model = SVC(kernel='linear', random_state=42)\n",
    "svm_under_model.fit(X_svm_undersampled, y_svm_undersampled)\n",
    "\n",
    "# Evaluate the model\n",
    "y_svm_underpred = svm_under_model.predict(X_test)\n",
    "print(classification_report(y_test, y_svm_underpred))"
   ]
  },
  {
   "cell_type": "code",
   "execution_count": 83,
   "metadata": {},
   "outputs": [
    {
     "name": "stdout",
     "output_type": "stream",
     "text": [
      "              precision    recall  f1-score   support\n",
      "\n",
      "           0       0.84      0.88      0.86      1036\n",
      "           1       0.62      0.54      0.58       373\n",
      "\n",
      "    accuracy                           0.79      1409\n",
      "   macro avg       0.73      0.71      0.72      1409\n",
      "weighted avg       0.78      0.79      0.79      1409\n",
      "\n"
     ]
    }
   ],
   "source": [
    "# Apply SMOTE\n",
    "smotesampler = SMOTE(random_state=42)\n",
    "X_smote_resampled, y_smote_resampled = smotesampler.fit_resample(X_train, y_train)\n",
    "\n",
    "# Train SVM on the resampled data\n",
    "svm_smote_model = SVC(kernel='linear', random_state=42)\n",
    "svm_smote_model.fit(X_smote_resampled, y_smote_resampled)\n",
    "\n",
    "# Evaluate the model\n",
    "y_smote_pred = svm_smote_model.predict(X_test)\n",
    "print(classification_report(y_test, y_smote_pred))"
   ]
  },
  {
   "cell_type": "markdown",
   "metadata": {},
   "source": [
    "## Adjusting Class Weights in Models"
   ]
  },
  {
   "cell_type": "code",
   "execution_count": 70,
   "metadata": {},
   "outputs": [
    {
     "name": "stdout",
     "output_type": "stream",
     "text": [
      "Random Forest Accuracy: 0.79\n",
      "Random Forest:\n",
      "              precision    recall  f1-score   support\n",
      "\n",
      "           0       0.82      0.92      0.87      1036\n",
      "           1       0.66      0.45      0.54       373\n",
      "\n",
      "    accuracy                           0.79      1409\n",
      "   macro avg       0.74      0.68      0.70      1409\n",
      "weighted avg       0.78      0.79      0.78      1409\n",
      "\n"
     ]
    }
   ],
   "source": [
    "# Using class weights to handle an imbalance in Random Forest\n",
    "rf_model = RandomForestClassifier(class_weight='balanced')\n",
    "rf_model.fit(X_train, y_train)\n",
    "\n",
    "# Predictions\n",
    "y_pred_rf = rf_model.predict(X_test)\n",
    "\n",
    "# Evaluate the model\n",
    "print(f'Random Forest Accuracy: {accuracy_score(y_test, y_pred_rf):.2f}')\n",
    "print(\"Random Forest:\")\n",
    "print(classification_report(y_test, y_pred_rf))\n"
   ]
  },
  {
   "cell_type": "code",
   "execution_count": 71,
   "metadata": {},
   "outputs": [
    {
     "name": "stdout",
     "output_type": "stream",
     "text": [
      "The accuracy score of the Logistic regression is 0.75\n",
      "Logistic Regression:\n",
      "              precision    recall  f1-score   support\n",
      "\n",
      "           0       0.92      0.72      0.81      1036\n",
      "           1       0.52      0.83      0.64       373\n",
      "\n",
      "    accuracy                           0.75      1409\n",
      "   macro avg       0.72      0.78      0.73      1409\n",
      "weighted avg       0.82      0.75      0.77      1409\n",
      "\n"
     ]
    }
   ],
   "source": [
    "# Using class weights to handle an imbalance in Logistic Regression\n",
    "lr_model = LogisticRegression(class_weight='balanced', solver='liblinear')\n",
    "lr_model.fit(X_train, y_train)\n",
    "\n",
    "# Predictions\n",
    "y_pred_lr = lr_model.predict(X_test)\n",
    "\n",
    "accuracy= accuracy_score(y_test, y_pred_lr)\n",
    "print(f'The accuracy score of the Logistic regression is {accuracy:.2f}')\n",
    "print(\"Logistic Regression:\")\n",
    "print(classification_report(y_test, y_pred_lr))\n"
   ]
  },
  {
   "cell_type": "code",
   "execution_count": 72,
   "metadata": {},
   "outputs": [
    {
     "name": "stdout",
     "output_type": "stream",
     "text": [
      "Accuracy: 0.6728176011355571\n",
      "\n",
      "Classification Report:\n",
      "Support Vector Classifier (SVC):\n",
      "              precision    recall  f1-score   support\n",
      "\n",
      "           0       0.82      0.70      0.76      1036\n",
      "           1       0.42      0.58      0.49       373\n",
      "\n",
      "    accuracy                           0.67      1409\n",
      "   macro avg       0.62      0.64      0.62      1409\n",
      "weighted avg       0.72      0.67      0.69      1409\n",
      "\n"
     ]
    }
   ],
   "source": [
    "# Using class weights to handle imbalance in SVC\n",
    "svc_model = SVC(class_weight='balanced')\n",
    "svc_model.fit(X_train, y_train)\n",
    "\n",
    "# Predictions\n",
    "y_pred_svc = svc_model.predict(X_test)\n",
    "\n",
    "print(\"Accuracy:\", accuracy_score(y_test, y_pred_svc))\n",
    "print(\"\\nClassification Report:\")\n",
    "print(\"Support Vector Classifier (SVC):\")\n",
    "print(classification_report(y_test, y_pred_svc))\n"
   ]
  },
  {
   "cell_type": "markdown",
   "metadata": {},
   "source": [
    "## HYPERPARAMETER TUNING"
   ]
  },
  {
   "cell_type": "code",
   "execution_count": 74,
   "metadata": {},
   "outputs": [
    {
     "name": "stdout",
     "output_type": "stream",
     "text": [
      "Best Parameters: {'max_depth': 35, 'min_samples_split': 10, 'n_estimators': 100}\n",
      "Test Accuracy: 0.8076650106458482\n",
      "              precision    recall  f1-score   support\n",
      "\n",
      "           0       0.84      0.92      0.88      1036\n",
      "           1       0.68      0.51      0.58       373\n",
      "\n",
      "    accuracy                           0.81      1409\n",
      "   macro avg       0.76      0.71      0.73      1409\n",
      "weighted avg       0.80      0.81      0.80      1409\n",
      "\n"
     ]
    }
   ],
   "source": [
    "#using randomclassifier\n",
    "from sklearn.ensemble import RandomForestClassifier\n",
    "from sklearn.model_selection import GridSearchCV\n",
    "param_grid= {\n",
    "    'n_estimators': [50, 100, 150],\n",
    "    'max_depth': [20, 30, 35],\n",
    "    'min_samples_split': [2,5,10]\n",
    "}\n",
    "rc_model= RandomForestClassifier()\n",
    "grid_search = GridSearchCV(estimator= rc_model, param_grid= param_grid, cv= 5, scoring ='accuracy')\n",
    "grid_search.fit(X_train, y_train)\n",
    "\n",
    "#print best parameters\n",
    "print(\"Best Parameters:\", grid_search.best_params_)\n",
    "\n",
    "# best model\n",
    "best_model= grid_search.best_estimator_\n",
    "\n",
    "print(\"Test Accuracy for random forest:\", best_model.score(X_test, y_test))\n",
    "\n",
    "# Make predictions on the test set\n",
    "y_pred = best_model.predict(X_test)\n",
    "\n",
    "# Compute and print the classification report\n",
    "report = classification_report(y_test, y_pred)\n",
    "print(report)"
   ]
  },
  {
   "cell_type": "code",
   "execution_count": 78,
   "metadata": {},
   "outputs": [
    {
     "name": "stderr",
     "output_type": "stream",
     "text": [
      "C:\\ProgramData\\anaconda3\\Lib\\site-packages\\sklearn\\linear_model\\_sag.py:350: ConvergenceWarning: The max_iter was reached which means the coef_ did not converge\n",
      "  warnings.warn(\n",
      "C:\\ProgramData\\anaconda3\\Lib\\site-packages\\sklearn\\linear_model\\_sag.py:350: ConvergenceWarning: The max_iter was reached which means the coef_ did not converge\n",
      "  warnings.warn(\n",
      "C:\\ProgramData\\anaconda3\\Lib\\site-packages\\sklearn\\linear_model\\_sag.py:350: ConvergenceWarning: The max_iter was reached which means the coef_ did not converge\n",
      "  warnings.warn(\n",
      "C:\\ProgramData\\anaconda3\\Lib\\site-packages\\sklearn\\linear_model\\_sag.py:350: ConvergenceWarning: The max_iter was reached which means the coef_ did not converge\n",
      "  warnings.warn(\n",
      "C:\\ProgramData\\anaconda3\\Lib\\site-packages\\sklearn\\linear_model\\_sag.py:350: ConvergenceWarning: The max_iter was reached which means the coef_ did not converge\n",
      "  warnings.warn(\n",
      "C:\\ProgramData\\anaconda3\\Lib\\site-packages\\sklearn\\linear_model\\_sag.py:350: ConvergenceWarning: The max_iter was reached which means the coef_ did not converge\n",
      "  warnings.warn(\n",
      "C:\\ProgramData\\anaconda3\\Lib\\site-packages\\sklearn\\linear_model\\_sag.py:350: ConvergenceWarning: The max_iter was reached which means the coef_ did not converge\n",
      "  warnings.warn(\n",
      "C:\\ProgramData\\anaconda3\\Lib\\site-packages\\sklearn\\linear_model\\_sag.py:350: ConvergenceWarning: The max_iter was reached which means the coef_ did not converge\n",
      "  warnings.warn(\n",
      "C:\\ProgramData\\anaconda3\\Lib\\site-packages\\sklearn\\linear_model\\_sag.py:350: ConvergenceWarning: The max_iter was reached which means the coef_ did not converge\n",
      "  warnings.warn(\n",
      "C:\\ProgramData\\anaconda3\\Lib\\site-packages\\sklearn\\linear_model\\_sag.py:350: ConvergenceWarning: The max_iter was reached which means the coef_ did not converge\n",
      "  warnings.warn(\n",
      "C:\\ProgramData\\anaconda3\\Lib\\site-packages\\sklearn\\linear_model\\_sag.py:350: ConvergenceWarning: The max_iter was reached which means the coef_ did not converge\n",
      "  warnings.warn(\n",
      "C:\\ProgramData\\anaconda3\\Lib\\site-packages\\sklearn\\linear_model\\_sag.py:350: ConvergenceWarning: The max_iter was reached which means the coef_ did not converge\n",
      "  warnings.warn(\n",
      "C:\\ProgramData\\anaconda3\\Lib\\site-packages\\sklearn\\linear_model\\_sag.py:350: ConvergenceWarning: The max_iter was reached which means the coef_ did not converge\n",
      "  warnings.warn(\n",
      "C:\\ProgramData\\anaconda3\\Lib\\site-packages\\sklearn\\linear_model\\_sag.py:350: ConvergenceWarning: The max_iter was reached which means the coef_ did not converge\n",
      "  warnings.warn(\n",
      "C:\\ProgramData\\anaconda3\\Lib\\site-packages\\sklearn\\linear_model\\_sag.py:350: ConvergenceWarning: The max_iter was reached which means the coef_ did not converge\n",
      "  warnings.warn(\n",
      "C:\\ProgramData\\anaconda3\\Lib\\site-packages\\sklearn\\linear_model\\_sag.py:350: ConvergenceWarning: The max_iter was reached which means the coef_ did not converge\n",
      "  warnings.warn(\n",
      "C:\\ProgramData\\anaconda3\\Lib\\site-packages\\sklearn\\linear_model\\_sag.py:350: ConvergenceWarning: The max_iter was reached which means the coef_ did not converge\n",
      "  warnings.warn(\n",
      "C:\\ProgramData\\anaconda3\\Lib\\site-packages\\sklearn\\linear_model\\_sag.py:350: ConvergenceWarning: The max_iter was reached which means the coef_ did not converge\n",
      "  warnings.warn(\n",
      "C:\\ProgramData\\anaconda3\\Lib\\site-packages\\sklearn\\linear_model\\_sag.py:350: ConvergenceWarning: The max_iter was reached which means the coef_ did not converge\n",
      "  warnings.warn(\n",
      "C:\\ProgramData\\anaconda3\\Lib\\site-packages\\sklearn\\linear_model\\_sag.py:350: ConvergenceWarning: The max_iter was reached which means the coef_ did not converge\n",
      "  warnings.warn(\n",
      "C:\\ProgramData\\anaconda3\\Lib\\site-packages\\sklearn\\linear_model\\_sag.py:350: ConvergenceWarning: The max_iter was reached which means the coef_ did not converge\n",
      "  warnings.warn(\n",
      "C:\\ProgramData\\anaconda3\\Lib\\site-packages\\sklearn\\linear_model\\_sag.py:350: ConvergenceWarning: The max_iter was reached which means the coef_ did not converge\n",
      "  warnings.warn(\n",
      "C:\\ProgramData\\anaconda3\\Lib\\site-packages\\sklearn\\linear_model\\_sag.py:350: ConvergenceWarning: The max_iter was reached which means the coef_ did not converge\n",
      "  warnings.warn(\n",
      "C:\\ProgramData\\anaconda3\\Lib\\site-packages\\sklearn\\linear_model\\_sag.py:350: ConvergenceWarning: The max_iter was reached which means the coef_ did not converge\n",
      "  warnings.warn(\n",
      "C:\\ProgramData\\anaconda3\\Lib\\site-packages\\sklearn\\linear_model\\_sag.py:350: ConvergenceWarning: The max_iter was reached which means the coef_ did not converge\n",
      "  warnings.warn(\n",
      "C:\\ProgramData\\anaconda3\\Lib\\site-packages\\sklearn\\linear_model\\_sag.py:350: ConvergenceWarning: The max_iter was reached which means the coef_ did not converge\n",
      "  warnings.warn(\n",
      "C:\\ProgramData\\anaconda3\\Lib\\site-packages\\sklearn\\linear_model\\_sag.py:350: ConvergenceWarning: The max_iter was reached which means the coef_ did not converge\n",
      "  warnings.warn(\n",
      "C:\\ProgramData\\anaconda3\\Lib\\site-packages\\sklearn\\linear_model\\_sag.py:350: ConvergenceWarning: The max_iter was reached which means the coef_ did not converge\n",
      "  warnings.warn(\n",
      "C:\\ProgramData\\anaconda3\\Lib\\site-packages\\sklearn\\linear_model\\_sag.py:350: ConvergenceWarning: The max_iter was reached which means the coef_ did not converge\n",
      "  warnings.warn(\n",
      "C:\\ProgramData\\anaconda3\\Lib\\site-packages\\sklearn\\linear_model\\_sag.py:350: ConvergenceWarning: The max_iter was reached which means the coef_ did not converge\n",
      "  warnings.warn(\n",
      "C:\\ProgramData\\anaconda3\\Lib\\site-packages\\sklearn\\linear_model\\_sag.py:350: ConvergenceWarning: The max_iter was reached which means the coef_ did not converge\n",
      "  warnings.warn(\n",
      "C:\\ProgramData\\anaconda3\\Lib\\site-packages\\sklearn\\linear_model\\_sag.py:350: ConvergenceWarning: The max_iter was reached which means the coef_ did not converge\n",
      "  warnings.warn(\n",
      "C:\\ProgramData\\anaconda3\\Lib\\site-packages\\sklearn\\linear_model\\_sag.py:350: ConvergenceWarning: The max_iter was reached which means the coef_ did not converge\n",
      "  warnings.warn(\n",
      "C:\\ProgramData\\anaconda3\\Lib\\site-packages\\sklearn\\linear_model\\_sag.py:350: ConvergenceWarning: The max_iter was reached which means the coef_ did not converge\n",
      "  warnings.warn(\n",
      "C:\\ProgramData\\anaconda3\\Lib\\site-packages\\sklearn\\linear_model\\_sag.py:350: ConvergenceWarning: The max_iter was reached which means the coef_ did not converge\n",
      "  warnings.warn(\n",
      "C:\\ProgramData\\anaconda3\\Lib\\site-packages\\sklearn\\linear_model\\_sag.py:350: ConvergenceWarning: The max_iter was reached which means the coef_ did not converge\n",
      "  warnings.warn(\n",
      "C:\\ProgramData\\anaconda3\\Lib\\site-packages\\sklearn\\linear_model\\_sag.py:350: ConvergenceWarning: The max_iter was reached which means the coef_ did not converge\n",
      "  warnings.warn(\n",
      "C:\\ProgramData\\anaconda3\\Lib\\site-packages\\sklearn\\linear_model\\_sag.py:350: ConvergenceWarning: The max_iter was reached which means the coef_ did not converge\n",
      "  warnings.warn(\n",
      "C:\\ProgramData\\anaconda3\\Lib\\site-packages\\sklearn\\linear_model\\_sag.py:350: ConvergenceWarning: The max_iter was reached which means the coef_ did not converge\n",
      "  warnings.warn(\n",
      "C:\\ProgramData\\anaconda3\\Lib\\site-packages\\sklearn\\linear_model\\_sag.py:350: ConvergenceWarning: The max_iter was reached which means the coef_ did not converge\n",
      "  warnings.warn(\n",
      "C:\\ProgramData\\anaconda3\\Lib\\site-packages\\sklearn\\linear_model\\_sag.py:350: ConvergenceWarning: The max_iter was reached which means the coef_ did not converge\n",
      "  warnings.warn(\n",
      "C:\\ProgramData\\anaconda3\\Lib\\site-packages\\sklearn\\linear_model\\_sag.py:350: ConvergenceWarning: The max_iter was reached which means the coef_ did not converge\n",
      "  warnings.warn(\n",
      "C:\\ProgramData\\anaconda3\\Lib\\site-packages\\sklearn\\linear_model\\_sag.py:350: ConvergenceWarning: The max_iter was reached which means the coef_ did not converge\n",
      "  warnings.warn(\n",
      "C:\\ProgramData\\anaconda3\\Lib\\site-packages\\sklearn\\linear_model\\_sag.py:350: ConvergenceWarning: The max_iter was reached which means the coef_ did not converge\n",
      "  warnings.warn(\n",
      "C:\\ProgramData\\anaconda3\\Lib\\site-packages\\sklearn\\linear_model\\_sag.py:350: ConvergenceWarning: The max_iter was reached which means the coef_ did not converge\n",
      "  warnings.warn(\n",
      "C:\\ProgramData\\anaconda3\\Lib\\site-packages\\sklearn\\linear_model\\_sag.py:350: ConvergenceWarning: The max_iter was reached which means the coef_ did not converge\n",
      "  warnings.warn(\n",
      "C:\\ProgramData\\anaconda3\\Lib\\site-packages\\sklearn\\linear_model\\_sag.py:350: ConvergenceWarning: The max_iter was reached which means the coef_ did not converge\n",
      "  warnings.warn(\n",
      "C:\\ProgramData\\anaconda3\\Lib\\site-packages\\sklearn\\linear_model\\_sag.py:350: ConvergenceWarning: The max_iter was reached which means the coef_ did not converge\n",
      "  warnings.warn(\n",
      "C:\\ProgramData\\anaconda3\\Lib\\site-packages\\sklearn\\linear_model\\_sag.py:350: ConvergenceWarning: The max_iter was reached which means the coef_ did not converge\n",
      "  warnings.warn(\n",
      "C:\\ProgramData\\anaconda3\\Lib\\site-packages\\sklearn\\linear_model\\_sag.py:350: ConvergenceWarning: The max_iter was reached which means the coef_ did not converge\n",
      "  warnings.warn(\n",
      "C:\\ProgramData\\anaconda3\\Lib\\site-packages\\sklearn\\linear_model\\_sag.py:350: ConvergenceWarning: The max_iter was reached which means the coef_ did not converge\n",
      "  warnings.warn(\n",
      "C:\\ProgramData\\anaconda3\\Lib\\site-packages\\sklearn\\linear_model\\_sag.py:350: ConvergenceWarning: The max_iter was reached which means the coef_ did not converge\n",
      "  warnings.warn(\n",
      "C:\\ProgramData\\anaconda3\\Lib\\site-packages\\sklearn\\linear_model\\_sag.py:350: ConvergenceWarning: The max_iter was reached which means the coef_ did not converge\n",
      "  warnings.warn(\n",
      "C:\\ProgramData\\anaconda3\\Lib\\site-packages\\sklearn\\linear_model\\_sag.py:350: ConvergenceWarning: The max_iter was reached which means the coef_ did not converge\n",
      "  warnings.warn(\n",
      "C:\\ProgramData\\anaconda3\\Lib\\site-packages\\sklearn\\linear_model\\_sag.py:350: ConvergenceWarning: The max_iter was reached which means the coef_ did not converge\n",
      "  warnings.warn(\n",
      "C:\\ProgramData\\anaconda3\\Lib\\site-packages\\sklearn\\linear_model\\_sag.py:350: ConvergenceWarning: The max_iter was reached which means the coef_ did not converge\n",
      "  warnings.warn(\n",
      "C:\\ProgramData\\anaconda3\\Lib\\site-packages\\sklearn\\linear_model\\_sag.py:350: ConvergenceWarning: The max_iter was reached which means the coef_ did not converge\n",
      "  warnings.warn(\n",
      "C:\\ProgramData\\anaconda3\\Lib\\site-packages\\sklearn\\linear_model\\_sag.py:350: ConvergenceWarning: The max_iter was reached which means the coef_ did not converge\n",
      "  warnings.warn(\n",
      "C:\\ProgramData\\anaconda3\\Lib\\site-packages\\sklearn\\linear_model\\_sag.py:350: ConvergenceWarning: The max_iter was reached which means the coef_ did not converge\n",
      "  warnings.warn(\n",
      "C:\\ProgramData\\anaconda3\\Lib\\site-packages\\sklearn\\linear_model\\_sag.py:350: ConvergenceWarning: The max_iter was reached which means the coef_ did not converge\n",
      "  warnings.warn(\n",
      "C:\\ProgramData\\anaconda3\\Lib\\site-packages\\sklearn\\linear_model\\_sag.py:350: ConvergenceWarning: The max_iter was reached which means the coef_ did not converge\n",
      "  warnings.warn(\n",
      "C:\\ProgramData\\anaconda3\\Lib\\site-packages\\sklearn\\linear_model\\_sag.py:350: ConvergenceWarning: The max_iter was reached which means the coef_ did not converge\n",
      "  warnings.warn(\n",
      "C:\\ProgramData\\anaconda3\\Lib\\site-packages\\sklearn\\linear_model\\_sag.py:350: ConvergenceWarning: The max_iter was reached which means the coef_ did not converge\n",
      "  warnings.warn(\n",
      "C:\\ProgramData\\anaconda3\\Lib\\site-packages\\sklearn\\linear_model\\_sag.py:350: ConvergenceWarning: The max_iter was reached which means the coef_ did not converge\n",
      "  warnings.warn(\n",
      "C:\\ProgramData\\anaconda3\\Lib\\site-packages\\sklearn\\linear_model\\_sag.py:350: ConvergenceWarning: The max_iter was reached which means the coef_ did not converge\n",
      "  warnings.warn(\n",
      "C:\\ProgramData\\anaconda3\\Lib\\site-packages\\sklearn\\linear_model\\_sag.py:350: ConvergenceWarning: The max_iter was reached which means the coef_ did not converge\n",
      "  warnings.warn(\n",
      "C:\\ProgramData\\anaconda3\\Lib\\site-packages\\sklearn\\linear_model\\_sag.py:350: ConvergenceWarning: The max_iter was reached which means the coef_ did not converge\n",
      "  warnings.warn(\n",
      "C:\\ProgramData\\anaconda3\\Lib\\site-packages\\sklearn\\linear_model\\_sag.py:350: ConvergenceWarning: The max_iter was reached which means the coef_ did not converge\n",
      "  warnings.warn(\n",
      "C:\\ProgramData\\anaconda3\\Lib\\site-packages\\sklearn\\linear_model\\_sag.py:350: ConvergenceWarning: The max_iter was reached which means the coef_ did not converge\n",
      "  warnings.warn(\n",
      "C:\\ProgramData\\anaconda3\\Lib\\site-packages\\sklearn\\linear_model\\_sag.py:350: ConvergenceWarning: The max_iter was reached which means the coef_ did not converge\n",
      "  warnings.warn(\n",
      "C:\\ProgramData\\anaconda3\\Lib\\site-packages\\sklearn\\linear_model\\_sag.py:350: ConvergenceWarning: The max_iter was reached which means the coef_ did not converge\n",
      "  warnings.warn(\n",
      "C:\\ProgramData\\anaconda3\\Lib\\site-packages\\sklearn\\linear_model\\_sag.py:350: ConvergenceWarning: The max_iter was reached which means the coef_ did not converge\n",
      "  warnings.warn(\n",
      "C:\\ProgramData\\anaconda3\\Lib\\site-packages\\sklearn\\linear_model\\_sag.py:350: ConvergenceWarning: The max_iter was reached which means the coef_ did not converge\n",
      "  warnings.warn(\n",
      "C:\\ProgramData\\anaconda3\\Lib\\site-packages\\sklearn\\linear_model\\_sag.py:350: ConvergenceWarning: The max_iter was reached which means the coef_ did not converge\n",
      "  warnings.warn(\n",
      "C:\\ProgramData\\anaconda3\\Lib\\site-packages\\sklearn\\linear_model\\_sag.py:350: ConvergenceWarning: The max_iter was reached which means the coef_ did not converge\n",
      "  warnings.warn(\n",
      "C:\\ProgramData\\anaconda3\\Lib\\site-packages\\sklearn\\linear_model\\_sag.py:350: ConvergenceWarning: The max_iter was reached which means the coef_ did not converge\n",
      "  warnings.warn(\n",
      "C:\\ProgramData\\anaconda3\\Lib\\site-packages\\sklearn\\linear_model\\_sag.py:350: ConvergenceWarning: The max_iter was reached which means the coef_ did not converge\n",
      "  warnings.warn(\n",
      "C:\\ProgramData\\anaconda3\\Lib\\site-packages\\sklearn\\linear_model\\_sag.py:350: ConvergenceWarning: The max_iter was reached which means the coef_ did not converge\n",
      "  warnings.warn(\n",
      "C:\\ProgramData\\anaconda3\\Lib\\site-packages\\sklearn\\linear_model\\_sag.py:350: ConvergenceWarning: The max_iter was reached which means the coef_ did not converge\n",
      "  warnings.warn(\n",
      "C:\\ProgramData\\anaconda3\\Lib\\site-packages\\sklearn\\linear_model\\_sag.py:350: ConvergenceWarning: The max_iter was reached which means the coef_ did not converge\n",
      "  warnings.warn(\n",
      "C:\\ProgramData\\anaconda3\\Lib\\site-packages\\sklearn\\linear_model\\_sag.py:350: ConvergenceWarning: The max_iter was reached which means the coef_ did not converge\n",
      "  warnings.warn(\n",
      "C:\\ProgramData\\anaconda3\\Lib\\site-packages\\sklearn\\linear_model\\_sag.py:350: ConvergenceWarning: The max_iter was reached which means the coef_ did not converge\n",
      "  warnings.warn(\n",
      "C:\\ProgramData\\anaconda3\\Lib\\site-packages\\sklearn\\linear_model\\_sag.py:350: ConvergenceWarning: The max_iter was reached which means the coef_ did not converge\n",
      "  warnings.warn(\n",
      "C:\\ProgramData\\anaconda3\\Lib\\site-packages\\sklearn\\linear_model\\_sag.py:350: ConvergenceWarning: The max_iter was reached which means the coef_ did not converge\n",
      "  warnings.warn(\n",
      "C:\\ProgramData\\anaconda3\\Lib\\site-packages\\sklearn\\linear_model\\_sag.py:350: ConvergenceWarning: The max_iter was reached which means the coef_ did not converge\n",
      "  warnings.warn(\n",
      "C:\\ProgramData\\anaconda3\\Lib\\site-packages\\sklearn\\linear_model\\_sag.py:350: ConvergenceWarning: The max_iter was reached which means the coef_ did not converge\n",
      "  warnings.warn(\n",
      "C:\\ProgramData\\anaconda3\\Lib\\site-packages\\sklearn\\linear_model\\_sag.py:350: ConvergenceWarning: The max_iter was reached which means the coef_ did not converge\n",
      "  warnings.warn(\n",
      "C:\\ProgramData\\anaconda3\\Lib\\site-packages\\sklearn\\linear_model\\_sag.py:350: ConvergenceWarning: The max_iter was reached which means the coef_ did not converge\n",
      "  warnings.warn(\n",
      "C:\\ProgramData\\anaconda3\\Lib\\site-packages\\sklearn\\linear_model\\_sag.py:350: ConvergenceWarning: The max_iter was reached which means the coef_ did not converge\n",
      "  warnings.warn(\n",
      "C:\\ProgramData\\anaconda3\\Lib\\site-packages\\sklearn\\linear_model\\_sag.py:350: ConvergenceWarning: The max_iter was reached which means the coef_ did not converge\n",
      "  warnings.warn(\n"
     ]
    },
    {
     "name": "stdout",
     "output_type": "stream",
     "text": [
      "Best Parameters: {'C': 0.01, 'max_iter': 100, 'solver': 'liblinear'}\n",
      "Test Accuracy: 0.8211497515968772\n",
      "              precision    recall  f1-score   support\n",
      "\n",
      "           0       0.86      0.91      0.88      1036\n",
      "           1       0.70      0.58      0.63       373\n",
      "\n",
      "    accuracy                           0.82      1409\n",
      "   macro avg       0.78      0.74      0.76      1409\n",
      "weighted avg       0.81      0.82      0.82      1409\n",
      "\n"
     ]
    }
   ],
   "source": [
    "# define parameter grid for logistic regression model\n",
    "param_grid = {\n",
    "    'C': [0.001, 0.01, 0.1, 1, 10, 100],\n",
    "    'solver': ['liblinear', 'saga'],\n",
    "    'max_iter': [100, 200, 300]\n",
    "}\n",
    "LOR_model= LogisticRegression()\n",
    "grid_search = GridSearchCV(estimator= LOR_model, param_grid= param_grid, cv= 5, scoring ='accuracy')\n",
    "grid_search.fit(X_train, y_train)\n",
    "#print best parameters\n",
    "print(\"Best Parameters:\", grid_search.best_params_)\n",
    "\n",
    "# best model\n",
    "best_model= grid_search.best_estimator_\n",
    "\n",
    "print(\"Test Accuracy for logistic regression:\", best_model.score(X_test, y_test))\n",
    "\n",
    "# Make predictions on the test set\n",
    "y_pred = best_model.predict(X_test)\n",
    "\n",
    "# Compute and print the classification report\n",
    "report = classification_report(y_test, y_pred)\n",
    "print(report)\n"
   ]
  },
  {
   "cell_type": "code",
   "execution_count": 87,
   "metadata": {},
   "outputs": [
    {
     "name": "stdout",
     "output_type": "stream",
     "text": [
      "              precision    recall  f1-score   support\n",
      "\n",
      "           0       0.83      0.86      0.84      1036\n",
      "           1       0.57      0.51      0.54       373\n",
      "\n",
      "    accuracy                           0.77      1409\n",
      "   macro avg       0.70      0.69      0.69      1409\n",
      "weighted avg       0.76      0.77      0.76      1409\n",
      "\n",
      "Best Hyperparameters: {'C': 10, 'gamma': 0.01}\n"
     ]
    }
   ],
   "source": [
    "from sklearn.model_selection import GridSearchCV\n",
    "# Initialize the SVM classifier\n",
    "svm_model = SVC(kernel='rbf')\n",
    "\n",
    "# Define hyperparameters for tuning\n",
    "param_grid = {\n",
    "    'C': [0.1, 1, 10],\n",
    "    'gamma': [0.01, 0.1, 1]\n",
    "}\n",
    "\n",
    "# Perform grid search with cross-validation\n",
    "svm_grid_search = GridSearchCV(svm_model, param_grid, cv=3, scoring='f1', n_jobs=-1)\n",
    "svm_grid_search.fit(X_train, y_train)\n",
    "\n",
    "# Evaluate the best model\n",
    "best_model = svm_grid_search.best_estimator_\n",
    "svm_y_pred = best_model.predict(X_test)\n",
    "\n",
    "# Print classification report\n",
    "print(classification_report(y_test, svm_y_pred))\n",
    "print(f\"Best Hyperparameters: {svm_grid_search.best_params_}\")"
   ]
  },
  {
   "cell_type": "markdown",
   "metadata": {},
   "source": [
    "# CONCLUSION"
   ]
  },
  {
   "cell_type": "markdown",
   "metadata": {},
   "source": [
    "## Summary before applying resampling techniques\n",
    "- **Best Model for Overall Accuracy**: Logistic Regression performs the best overall accuracy (82%) compared to random forest and support vector machine model but still has  room for improvement in identifying churners.\n",
    "- **Handling Imbalanced Data**: All models struggle to predict the minority class (churn, 1) effectively, as seen by the lower recall and f1-scores for churn. The models are biased toward predicting non-churners due to the class imbalance.\n",
    "- **Precision vs Recall**: While all models are quite good at predicting non-churners (high recall for class 0), they struggle to predict churners (class 1). \n"
   ]
  },
  {
   "cell_type": "markdown",
   "metadata": {},
   "source": [
    "## Summary after using resampling techniques"
   ]
  },
  {
   "cell_type": "markdown",
   "metadata": {},
   "source": [
    "### Comparison of Logistic Regression, SVM and Random Forest\n",
    "\n",
    "\n",
    "#### Best model and resampling technique that performed the best\n",
    "\n",
    "**Logistic regression:** \n",
    "\n",
    "- It consistently achieved a higher recall across all resampling techniques, especially with class weights (recall: 0.83).\n",
    "- It maintained a good balance between precision and recall (F1 Score: 0.64 with class weights) making it more reliable for churn prediction.\n",
    "- It performed well with hyperparameter tuning, with high precision (0.70) and accuracy(0.82).\n",
    "- Logistic regression performed well with hyperparameter tuning, achieving high precision (0.70) and accuracy (0.82), which is useful if minimizing false positives is also important.\n",
    "\n",
    "#### Reason for resampling techniques of both models:\n",
    "\n",
    "- **For Logistic Regression:**\n",
    "Class Weights is the best resampling technique because it achieved the highest recall (0.83), which is critical for identifying churners. Although precision dropped (0.52), the trade-off is acceptable in churn analysis, where recall is more important.\n",
    "\n",
    "- **For Random Forest:**\n",
    "Undersampling is the best resampling technique because it achieved the highest recall (0.82) and F1 score (0.65). This makes it the most effective technique for improving minority class performance in random forest.\n",
    "\n",
    "- **For SVM**:\n",
    "Achieved high recall with oversampling (0.80) and undersampling (0.78) but performed poorly with class weights. Generally less effective than logistic regression and random forest for this problem.\n",
    "\n",
    "#### Final Recommendation\n",
    "**Best Model:** Logistic Regression.\n",
    "\n",
    "**Best Resampling Technique:** Class Weights (for logistic regression) and Undersampling (for random forest).\n",
    "\n",
    "##### Reason for model:  \n",
    "Logistic regression is better suited for churn analysis because it prioritizes recall, which is critical for identifying churners.  It outperformed both random forest and SVM across most resampling techniques."
   ]
  }
 ],
 "metadata": {
  "colab": {
   "provenance": []
  },
  "kernelspec": {
   "display_name": "Python 3 (ipykernel)",
   "language": "python",
   "name": "python3"
  },
  "language_info": {
   "codemirror_mode": {
    "name": "ipython",
    "version": 3
   },
   "file_extension": ".py",
   "mimetype": "text/x-python",
   "name": "python",
   "nbconvert_exporter": "python",
   "pygments_lexer": "ipython3",
   "version": "3.12.4"
  }
 },
 "nbformat": 4,
 "nbformat_minor": 4
}
